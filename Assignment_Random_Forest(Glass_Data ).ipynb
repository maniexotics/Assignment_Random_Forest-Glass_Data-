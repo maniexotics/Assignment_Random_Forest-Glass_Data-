{
 "cells": [
  {
   "cell_type": "markdown",
   "metadata": {},
   "source": [
    "# About Data\n",
    " - RI: refractive index\n",
    " - Na: Sodium (unit measurement: weight percent in the corresponding oxide, as\n",
    " - are attributes 4-10)\n",
    " - Mg: Magnesium\n",
    " - Al: Aluminum\n",
    " - Si: Silicon\n",
    " - K: Potassium\n",
    " - Ca: Calcium\n",
    " - Ba: Barium\n",
    " - Fe: Iron\n",
    "     - Type of glass: (class attribute)\n",
    "     - 1 building_windows_float_processed\n",
    "     - 2 building_windows_non_float_processed\n",
    "     - 3 vehicle_windows_float_processed\n",
    "     - 4 vehicle_windows_non_float_processed (none in this database)\n",
    "     - 5 containers\n",
    "     - 6 tableware\n",
    "     - 7 headlamps"
   ]
  },
  {
   "cell_type": "markdown",
   "metadata": {},
   "source": [
    "1. [DataPreparation](#1) <a id=100></a>\n",
    "2. [Exploratory Data Analysis](#2)\n",
    "3. [Feature Engineering](#3)\n",
    "4. [Modeling: BalancedBaggingClassifier](#4)\n",
    "    - 4.1 [Model Evaluation](#5)"
   ]
  },
  {
   "cell_type": "code",
   "execution_count": 1,
   "metadata": {
    "_cell_guid": "b1076dfc-b9ad-4769-8c92-a6c4dae69d19",
    "_uuid": "8f2839f25d086af736a60e9eeb907d3b93b6e0e5",
    "execution": {
     "iopub.execute_input": "2022-09-29T15:48:37.26688Z",
     "iopub.status.busy": "2022-09-29T15:48:37.265428Z",
     "iopub.status.idle": "2022-09-29T15:48:37.45357Z",
     "shell.execute_reply": "2022-09-29T15:48:37.452476Z",
     "shell.execute_reply.started": "2022-09-29T15:48:37.266838Z"
    }
   },
   "outputs": [],
   "source": [
    "import numpy as np # linear algebra\n",
    "import pandas as pd # data processing, CSV file I/O (e.g. pd.read_csv)\n",
    "\n",
    "import matplotlib.pyplot as plt\n",
    "import seaborn as sns\n",
    "\n",
    "from sklearn.metrics import confusion_matrix\n",
    "from sklearn.metrics import classification_report\n",
    "from sklearn.model_selection import cross_val_predict\n",
    "from sklearn.model_selection import train_test_split\n",
    "from sklearn.preprocessing import StandardScaler, LabelEncoder\n",
    "from sklearn.metrics import accuracy_score\n",
    "import joblib\n",
    "\n",
    "%matplotlib inline\n",
    "\n",
    "from imblearn.over_sampling import SMOTE\n",
    "\n",
    "from sklearn.ensemble import RandomForestClassifier\n",
    "\n",
    "import warnings\n",
    "warnings.filterwarnings('ignore')"
   ]
  },
  {
   "cell_type": "markdown",
   "metadata": {},
   "source": [
    "### 1. Data Preparation <a id=1></a>\n",
    "[back to top](#100)"
   ]
  },
  {
   "cell_type": "code",
   "execution_count": 2,
   "metadata": {
    "execution": {
     "iopub.execute_input": "2022-09-29T15:02:57.77402Z",
     "iopub.status.busy": "2022-09-29T15:02:57.773452Z",
     "iopub.status.idle": "2022-09-29T15:02:57.808758Z",
     "shell.execute_reply": "2022-09-29T15:02:57.807372Z",
     "shell.execute_reply.started": "2022-09-29T15:02:57.77397Z"
    }
   },
   "outputs": [],
   "source": [
    "df = pd.read_excel(\"C:\\\\Users\\\\hp\\\\Desktop\\\\assignments\\\\Random Forest\\\\glass.xlsx\")"
   ]
  },
  {
   "cell_type": "markdown",
   "metadata": {},
   "source": [
    "### 2. Exploratory Data Analysis <a id=2></a>"
   ]
  },
  {
   "cell_type": "code",
   "execution_count": 3,
   "metadata": {
    "execution": {
     "iopub.execute_input": "2022-09-29T15:03:02.966864Z",
     "iopub.status.busy": "2022-09-29T15:03:02.966348Z",
     "iopub.status.idle": "2022-09-29T15:03:02.999823Z",
     "shell.execute_reply": "2022-09-29T15:03:02.998621Z",
     "shell.execute_reply.started": "2022-09-29T15:03:02.96682Z"
    }
   },
   "outputs": [
    {
     "data": {
      "text/html": [
       "<div>\n",
       "<style scoped>\n",
       "    .dataframe tbody tr th:only-of-type {\n",
       "        vertical-align: middle;\n",
       "    }\n",
       "\n",
       "    .dataframe tbody tr th {\n",
       "        vertical-align: top;\n",
       "    }\n",
       "\n",
       "    .dataframe thead th {\n",
       "        text-align: right;\n",
       "    }\n",
       "</style>\n",
       "<table border=\"1\" class=\"dataframe\">\n",
       "  <thead>\n",
       "    <tr style=\"text-align: right;\">\n",
       "      <th></th>\n",
       "      <th>RI</th>\n",
       "      <th>Na</th>\n",
       "      <th>Mg</th>\n",
       "      <th>Al</th>\n",
       "      <th>Si</th>\n",
       "      <th>K</th>\n",
       "      <th>Ca</th>\n",
       "      <th>Ba</th>\n",
       "      <th>Fe</th>\n",
       "      <th>Type</th>\n",
       "    </tr>\n",
       "  </thead>\n",
       "  <tbody>\n",
       "    <tr>\n",
       "      <th>0</th>\n",
       "      <td>1.52101</td>\n",
       "      <td>13.64</td>\n",
       "      <td>4.49</td>\n",
       "      <td>1.10</td>\n",
       "      <td>71.78</td>\n",
       "      <td>0.06</td>\n",
       "      <td>8.75</td>\n",
       "      <td>0.0</td>\n",
       "      <td>0.0</td>\n",
       "      <td>1</td>\n",
       "    </tr>\n",
       "    <tr>\n",
       "      <th>1</th>\n",
       "      <td>1.51761</td>\n",
       "      <td>13.89</td>\n",
       "      <td>3.60</td>\n",
       "      <td>1.36</td>\n",
       "      <td>72.73</td>\n",
       "      <td>0.48</td>\n",
       "      <td>7.83</td>\n",
       "      <td>0.0</td>\n",
       "      <td>0.0</td>\n",
       "      <td>1</td>\n",
       "    </tr>\n",
       "    <tr>\n",
       "      <th>2</th>\n",
       "      <td>1.51618</td>\n",
       "      <td>13.53</td>\n",
       "      <td>3.55</td>\n",
       "      <td>1.54</td>\n",
       "      <td>72.99</td>\n",
       "      <td>0.39</td>\n",
       "      <td>7.78</td>\n",
       "      <td>0.0</td>\n",
       "      <td>0.0</td>\n",
       "      <td>1</td>\n",
       "    </tr>\n",
       "    <tr>\n",
       "      <th>3</th>\n",
       "      <td>1.51766</td>\n",
       "      <td>13.21</td>\n",
       "      <td>3.69</td>\n",
       "      <td>1.29</td>\n",
       "      <td>72.61</td>\n",
       "      <td>0.57</td>\n",
       "      <td>8.22</td>\n",
       "      <td>0.0</td>\n",
       "      <td>0.0</td>\n",
       "      <td>1</td>\n",
       "    </tr>\n",
       "    <tr>\n",
       "      <th>4</th>\n",
       "      <td>1.51742</td>\n",
       "      <td>13.27</td>\n",
       "      <td>3.62</td>\n",
       "      <td>1.24</td>\n",
       "      <td>73.08</td>\n",
       "      <td>0.55</td>\n",
       "      <td>8.07</td>\n",
       "      <td>0.0</td>\n",
       "      <td>0.0</td>\n",
       "      <td>1</td>\n",
       "    </tr>\n",
       "  </tbody>\n",
       "</table>\n",
       "</div>"
      ],
      "text/plain": [
       "        RI     Na    Mg    Al     Si     K    Ca   Ba   Fe  Type\n",
       "0  1.52101  13.64  4.49  1.10  71.78  0.06  8.75  0.0  0.0     1\n",
       "1  1.51761  13.89  3.60  1.36  72.73  0.48  7.83  0.0  0.0     1\n",
       "2  1.51618  13.53  3.55  1.54  72.99  0.39  7.78  0.0  0.0     1\n",
       "3  1.51766  13.21  3.69  1.29  72.61  0.57  8.22  0.0  0.0     1\n",
       "4  1.51742  13.27  3.62  1.24  73.08  0.55  8.07  0.0  0.0     1"
      ]
     },
     "execution_count": 3,
     "metadata": {},
     "output_type": "execute_result"
    }
   ],
   "source": [
    "df.head()"
   ]
  },
  {
   "cell_type": "code",
   "execution_count": 4,
   "metadata": {
    "execution": {
     "iopub.execute_input": "2022-09-29T15:03:13.064379Z",
     "iopub.status.busy": "2022-09-29T15:03:13.063956Z",
     "iopub.status.idle": "2022-09-29T15:03:13.087105Z",
     "shell.execute_reply": "2022-09-29T15:03:13.085803Z",
     "shell.execute_reply.started": "2022-09-29T15:03:13.064343Z"
    }
   },
   "outputs": [
    {
     "name": "stdout",
     "output_type": "stream",
     "text": [
      "<class 'pandas.core.frame.DataFrame'>\n",
      "RangeIndex: 214 entries, 0 to 213\n",
      "Data columns (total 10 columns):\n",
      " #   Column  Non-Null Count  Dtype  \n",
      "---  ------  --------------  -----  \n",
      " 0   RI      214 non-null    float64\n",
      " 1   Na      214 non-null    float64\n",
      " 2   Mg      214 non-null    float64\n",
      " 3   Al      214 non-null    float64\n",
      " 4   Si      214 non-null    float64\n",
      " 5   K       214 non-null    float64\n",
      " 6   Ca      214 non-null    float64\n",
      " 7   Ba      214 non-null    float64\n",
      " 8   Fe      214 non-null    float64\n",
      " 9   Type    214 non-null    int64  \n",
      "dtypes: float64(9), int64(1)\n",
      "memory usage: 16.8 KB\n"
     ]
    }
   ],
   "source": [
    "df.info()"
   ]
  },
  {
   "cell_type": "markdown",
   "metadata": {},
   "source": [
    "There is 214 data, 1 int Dtype, 8 float64 Dtype"
   ]
  },
  {
   "cell_type": "code",
   "execution_count": 5,
   "metadata": {
    "execution": {
     "iopub.execute_input": "2022-09-29T15:15:02.28922Z",
     "iopub.status.busy": "2022-09-29T15:15:02.288802Z",
     "iopub.status.idle": "2022-09-29T15:15:02.567336Z",
     "shell.execute_reply": "2022-09-29T15:15:02.566213Z",
     "shell.execute_reply.started": "2022-09-29T15:15:02.289187Z"
    }
   },
   "outputs": [
    {
     "data": {
      "text/plain": [
       "<Axes: xlabel='Type', ylabel='count'>"
      ]
     },
     "execution_count": 5,
     "metadata": {},
     "output_type": "execute_result"
    },
    {
     "data": {
      "image/png": "[encoded data removed]",
      "text/plain": [
       "<Figure size 1200x600 with 1 Axes>"
      ]
     },
     "metadata": {},
     "output_type": "display_data"
    }
   ],
   "source": [
    "plt.figure(figsize=(12,6))\n",
    "sns.countplot(x='Type', data=df)"
   ]
  },
  {
   "cell_type": "markdown",
   "metadata": {},
   "source": [
    "there is imbalance data"
   ]
  },
  {
   "cell_type": "code",
   "execution_count": 6,
   "metadata": {
    "execution": {
     "iopub.execute_input": "2022-09-29T15:20:31.361482Z",
     "iopub.status.busy": "2022-09-29T15:20:31.360387Z",
     "iopub.status.idle": "2022-09-29T15:20:31.40806Z",
     "shell.execute_reply": "2022-09-29T15:20:31.406869Z",
     "shell.execute_reply.started": "2022-09-29T15:20:31.361442Z"
    }
   },
   "outputs": [
    {
     "data": {
      "text/html": [
       "<div>\n",
       "<style scoped>\n",
       "    .dataframe tbody tr th:only-of-type {\n",
       "        vertical-align: middle;\n",
       "    }\n",
       "\n",
       "    .dataframe tbody tr th {\n",
       "        vertical-align: top;\n",
       "    }\n",
       "\n",
       "    .dataframe thead th {\n",
       "        text-align: right;\n",
       "    }\n",
       "</style>\n",
       "<table border=\"1\" class=\"dataframe\">\n",
       "  <thead>\n",
       "    <tr style=\"text-align: right;\">\n",
       "      <th></th>\n",
       "      <th>RI</th>\n",
       "      <th>Na</th>\n",
       "      <th>Mg</th>\n",
       "      <th>Al</th>\n",
       "      <th>Si</th>\n",
       "      <th>K</th>\n",
       "      <th>Ca</th>\n",
       "      <th>Ba</th>\n",
       "      <th>Fe</th>\n",
       "      <th>Type</th>\n",
       "    </tr>\n",
       "  </thead>\n",
       "  <tbody>\n",
       "    <tr>\n",
       "      <th>count</th>\n",
       "      <td>214.000000</td>\n",
       "      <td>214.000000</td>\n",
       "      <td>214.000000</td>\n",
       "      <td>214.000000</td>\n",
       "      <td>214.000000</td>\n",
       "      <td>214.000000</td>\n",
       "      <td>214.000000</td>\n",
       "      <td>214.000000</td>\n",
       "      <td>214.000000</td>\n",
       "      <td>214.000000</td>\n",
       "    </tr>\n",
       "    <tr>\n",
       "      <th>mean</th>\n",
       "      <td>1.518365</td>\n",
       "      <td>13.407850</td>\n",
       "      <td>2.684533</td>\n",
       "      <td>1.444907</td>\n",
       "      <td>72.650935</td>\n",
       "      <td>0.497056</td>\n",
       "      <td>8.956963</td>\n",
       "      <td>0.175047</td>\n",
       "      <td>0.057009</td>\n",
       "      <td>2.780374</td>\n",
       "    </tr>\n",
       "    <tr>\n",
       "      <th>std</th>\n",
       "      <td>0.003037</td>\n",
       "      <td>0.816604</td>\n",
       "      <td>1.442408</td>\n",
       "      <td>0.499270</td>\n",
       "      <td>0.774546</td>\n",
       "      <td>0.652192</td>\n",
       "      <td>1.423153</td>\n",
       "      <td>0.497219</td>\n",
       "      <td>0.097439</td>\n",
       "      <td>2.103739</td>\n",
       "    </tr>\n",
       "    <tr>\n",
       "      <th>min</th>\n",
       "      <td>1.511150</td>\n",
       "      <td>10.730000</td>\n",
       "      <td>0.000000</td>\n",
       "      <td>0.290000</td>\n",
       "      <td>69.810000</td>\n",
       "      <td>0.000000</td>\n",
       "      <td>5.430000</td>\n",
       "      <td>0.000000</td>\n",
       "      <td>0.000000</td>\n",
       "      <td>1.000000</td>\n",
       "    </tr>\n",
       "    <tr>\n",
       "      <th>25%</th>\n",
       "      <td>1.516522</td>\n",
       "      <td>12.907500</td>\n",
       "      <td>2.115000</td>\n",
       "      <td>1.190000</td>\n",
       "      <td>72.280000</td>\n",
       "      <td>0.122500</td>\n",
       "      <td>8.240000</td>\n",
       "      <td>0.000000</td>\n",
       "      <td>0.000000</td>\n",
       "      <td>1.000000</td>\n",
       "    </tr>\n",
       "    <tr>\n",
       "      <th>50%</th>\n",
       "      <td>1.517680</td>\n",
       "      <td>13.300000</td>\n",
       "      <td>3.480000</td>\n",
       "      <td>1.360000</td>\n",
       "      <td>72.790000</td>\n",
       "      <td>0.555000</td>\n",
       "      <td>8.600000</td>\n",
       "      <td>0.000000</td>\n",
       "      <td>0.000000</td>\n",
       "      <td>2.000000</td>\n",
       "    </tr>\n",
       "    <tr>\n",
       "      <th>75%</th>\n",
       "      <td>1.519157</td>\n",
       "      <td>13.825000</td>\n",
       "      <td>3.600000</td>\n",
       "      <td>1.630000</td>\n",
       "      <td>73.087500</td>\n",
       "      <td>0.610000</td>\n",
       "      <td>9.172500</td>\n",
       "      <td>0.000000</td>\n",
       "      <td>0.100000</td>\n",
       "      <td>3.000000</td>\n",
       "    </tr>\n",
       "    <tr>\n",
       "      <th>max</th>\n",
       "      <td>1.533930</td>\n",
       "      <td>17.380000</td>\n",
       "      <td>4.490000</td>\n",
       "      <td>3.500000</td>\n",
       "      <td>75.410000</td>\n",
       "      <td>6.210000</td>\n",
       "      <td>16.190000</td>\n",
       "      <td>3.150000</td>\n",
       "      <td>0.510000</td>\n",
       "      <td>7.000000</td>\n",
       "    </tr>\n",
       "  </tbody>\n",
       "</table>\n",
       "</div>"
      ],
      "text/plain": [
       "               RI          Na          Mg          Al          Si           K  \\\n",
       "count  214.000000  214.000000  214.000000  214.000000  214.000000  214.000000   \n",
       "mean     1.518365   13.407850    2.684533    1.444907   72.650935    0.497056   \n",
       "std      0.003037    0.816604    1.442408    0.499270    0.774546    0.652192   \n",
       "min      1.511150   10.730000    0.000000    0.290000   69.810000    0.000000   \n",
       "25%      1.516522   12.907500    2.115000    1.190000   72.280000    0.122500   \n",
       "50%      1.517680   13.300000    3.480000    1.360000   72.790000    0.555000   \n",
       "75%      1.519157   13.825000    3.600000    1.630000   73.087500    0.610000   \n",
       "max      1.533930   17.380000    4.490000    3.500000   75.410000    6.210000   \n",
       "\n",
       "               Ca          Ba          Fe        Type  \n",
       "count  214.000000  214.000000  214.000000  214.000000  \n",
       "mean     8.956963    0.175047    0.057009    2.780374  \n",
       "std      1.423153    0.497219    0.097439    2.103739  \n",
       "min      5.430000    0.000000    0.000000    1.000000  \n",
       "25%      8.240000    0.000000    0.000000    1.000000  \n",
       "50%      8.600000    0.000000    0.000000    2.000000  \n",
       "75%      9.172500    0.000000    0.100000    3.000000  \n",
       "max     16.190000    3.150000    0.510000    7.000000  "
      ]
     },
     "execution_count": 6,
     "metadata": {},
     "output_type": "execute_result"
    }
   ],
   "source": [
    "df.describe()"
   ]
  },
  {
   "cell_type": "markdown",
   "metadata": {},
   "source": [
    "there is outlayer in feature K, Ca, BA, and FE"
   ]
  },
  {
   "cell_type": "code",
   "execution_count": 7,
   "metadata": {
    "execution": {
     "iopub.execute_input": "2022-09-29T15:24:37.032285Z",
     "iopub.status.busy": "2022-09-29T15:24:37.031832Z",
     "iopub.status.idle": "2022-09-29T15:24:37.089573Z",
     "shell.execute_reply": "2022-09-29T15:24:37.08878Z",
     "shell.execute_reply.started": "2022-09-29T15:24:37.032249Z"
    }
   },
   "outputs": [
    {
     "data": {
      "text/html": [
       "<style type=\"text/css\">\n",
       "#T_577b5_row0_col0, #T_577b5_row0_col2, #T_577b5_row1_col0, #T_577b5_row2_col0, #T_577b5_row2_col3, #T_577b5_row3_col0, #T_577b5_row4_col0, #T_577b5_row5_col0, #T_577b5_row5_col3, #T_577b5_row5_col4, #T_577b5_row6_col0, #T_577b5_row7_col0, #T_577b5_row7_col1, #T_577b5_row7_col3, #T_577b5_row7_col4, #T_577b5_row7_col5, #T_577b5_row7_col6, #T_577b5_row8_col0, #T_577b5_row8_col1, #T_577b5_row8_col3, #T_577b5_row8_col4, #T_577b5_row8_col5, #T_577b5_row8_col6, #T_577b5_row8_col7, #T_577b5_row9_col0 {\n",
       "  background-color: #0d0887;\n",
       "  color: #f1f1f1;\n",
       "}\n",
       "#T_577b5_row0_col1, #T_577b5_row0_col3, #T_577b5_row0_col4, #T_577b5_row0_col5, #T_577b5_row0_col6, #T_577b5_row3_col6 {\n",
       "  background-color: #1b068d;\n",
       "  color: #f1f1f1;\n",
       "}\n",
       "#T_577b5_row0_col7, #T_577b5_row9_col3, #T_577b5_row9_col4 {\n",
       "  background-color: #16078a;\n",
       "  color: #f1f1f1;\n",
       "}\n",
       "#T_577b5_row1_col1 {\n",
       "  background-color: #6400a7;\n",
       "  color: #f1f1f1;\n",
       "}\n",
       "#T_577b5_row1_col2 {\n",
       "  background-color: #ad2793;\n",
       "  color: #f1f1f1;\n",
       "}\n",
       "#T_577b5_row1_col3 {\n",
       "  background-color: #5801a4;\n",
       "  color: #f1f1f1;\n",
       "}\n",
       "#T_577b5_row1_col4 {\n",
       "  background-color: #6100a7;\n",
       "  color: #f1f1f1;\n",
       "}\n",
       "#T_577b5_row1_col5 {\n",
       "  background-color: #6300a7;\n",
       "  color: #f1f1f1;\n",
       "}\n",
       "#T_577b5_row1_col6 {\n",
       "  background-color: #6600a7;\n",
       "  color: #f1f1f1;\n",
       "}\n",
       "#T_577b5_row1_col7 {\n",
       "  background-color: #7401a8;\n",
       "  color: #f1f1f1;\n",
       "}\n",
       "#T_577b5_row2_col1, #T_577b5_row7_col7, #T_577b5_row9_col1 {\n",
       "  background-color: #240691;\n",
       "  color: #f1f1f1;\n",
       "}\n",
       "#T_577b5_row2_col2 {\n",
       "  background-color: #f07f4f;\n",
       "  color: #f1f1f1;\n",
       "}\n",
       "#T_577b5_row2_col4, #T_577b5_row9_col5 {\n",
       "  background-color: #20068f;\n",
       "  color: #f1f1f1;\n",
       "}\n",
       "#T_577b5_row2_col5, #T_577b5_row2_col6 {\n",
       "  background-color: #2a0593;\n",
       "  color: #f1f1f1;\n",
       "}\n",
       "#T_577b5_row2_col7 {\n",
       "  background-color: #2c0594;\n",
       "  color: #f1f1f1;\n",
       "}\n",
       "#T_577b5_row3_col1, #T_577b5_row3_col4, #T_577b5_row3_col5 {\n",
       "  background-color: #19068c;\n",
       "  color: #f1f1f1;\n",
       "}\n",
       "#T_577b5_row3_col2, #T_577b5_row7_col2 {\n",
       "  background-color: #7801a8;\n",
       "  color: #f1f1f1;\n",
       "}\n",
       "#T_577b5_row3_col3, #T_577b5_row5_col1, #T_577b5_row5_col5 {\n",
       "  background-color: #100788;\n",
       "  color: #f1f1f1;\n",
       "}\n",
       "#T_577b5_row3_col7, #T_577b5_row9_col6 {\n",
       "  background-color: #260591;\n",
       "  color: #f1f1f1;\n",
       "}\n",
       "#T_577b5_row4_col1, #T_577b5_row4_col3, #T_577b5_row4_col4, #T_577b5_row4_col5, #T_577b5_row4_col6, #T_577b5_row4_col7, #T_577b5_row9_col2 {\n",
       "  background-color: #f0f921;\n",
       "  color: #000000;\n",
       "}\n",
       "#T_577b5_row4_col2 {\n",
       "  background-color: #a72197;\n",
       "  color: #f1f1f1;\n",
       "}\n",
       "#T_577b5_row5_col2 {\n",
       "  background-color: #9410a2;\n",
       "  color: #f1f1f1;\n",
       "}\n",
       "#T_577b5_row5_col6 {\n",
       "  background-color: #130789;\n",
       "  color: #f1f1f1;\n",
       "}\n",
       "#T_577b5_row5_col7, #T_577b5_row6_col3 {\n",
       "  background-color: #370499;\n",
       "  color: #f1f1f1;\n",
       "}\n",
       "#T_577b5_row6_col1 {\n",
       "  background-color: #4b03a1;\n",
       "  color: #f1f1f1;\n",
       "}\n",
       "#T_577b5_row6_col2 {\n",
       "  background-color: #ef7c51;\n",
       "  color: #f1f1f1;\n",
       "}\n",
       "#T_577b5_row6_col4 {\n",
       "  background-color: #48039f;\n",
       "  color: #f1f1f1;\n",
       "}\n",
       "#T_577b5_row6_col5 {\n",
       "  background-color: #4903a0;\n",
       "  color: #f1f1f1;\n",
       "}\n",
       "#T_577b5_row6_col6 {\n",
       "  background-color: #4c02a1;\n",
       "  color: #f1f1f1;\n",
       "}\n",
       "#T_577b5_row6_col7 {\n",
       "  background-color: #6e00a8;\n",
       "  color: #f1f1f1;\n",
       "}\n",
       "#T_577b5_row8_col2 {\n",
       "  background-color: #280592;\n",
       "  color: #f1f1f1;\n",
       "}\n",
       "#T_577b5_row9_col7 {\n",
       "  background-color: #3c049b;\n",
       "  color: #f1f1f1;\n",
       "}\n",
       "</style>\n",
       "<table id=\"T_577b5\">\n",
       "  <thead>\n",
       "    <tr>\n",
       "      <th class=\"blank level0\" >&nbsp;</th>\n",
       "      <th id=\"T_577b5_level0_col0\" class=\"col_heading level0 col0\" >count</th>\n",
       "      <th id=\"T_577b5_level0_col1\" class=\"col_heading level0 col1\" >mean</th>\n",
       "      <th id=\"T_577b5_level0_col2\" class=\"col_heading level0 col2\" >std</th>\n",
       "      <th id=\"T_577b5_level0_col3\" class=\"col_heading level0 col3\" >min</th>\n",
       "      <th id=\"T_577b5_level0_col4\" class=\"col_heading level0 col4\" >25%</th>\n",
       "      <th id=\"T_577b5_level0_col5\" class=\"col_heading level0 col5\" >50%</th>\n",
       "      <th id=\"T_577b5_level0_col6\" class=\"col_heading level0 col6\" >75%</th>\n",
       "      <th id=\"T_577b5_level0_col7\" class=\"col_heading level0 col7\" >max</th>\n",
       "    </tr>\n",
       "  </thead>\n",
       "  <tbody>\n",
       "    <tr>\n",
       "      <th id=\"T_577b5_level0_row0\" class=\"row_heading level0 row0\" >RI</th>\n",
       "      <td id=\"T_577b5_row0_col0\" class=\"data row0 col0\" >214.000000</td>\n",
       "      <td id=\"T_577b5_row0_col1\" class=\"data row0 col1\" >1.518365</td>\n",
       "      <td id=\"T_577b5_row0_col2\" class=\"data row0 col2\" >0.003037</td>\n",
       "      <td id=\"T_577b5_row0_col3\" class=\"data row0 col3\" >1.511150</td>\n",
       "      <td id=\"T_577b5_row0_col4\" class=\"data row0 col4\" >1.516522</td>\n",
       "      <td id=\"T_577b5_row0_col5\" class=\"data row0 col5\" >1.517680</td>\n",
       "      <td id=\"T_577b5_row0_col6\" class=\"data row0 col6\" >1.519157</td>\n",
       "      <td id=\"T_577b5_row0_col7\" class=\"data row0 col7\" >1.533930</td>\n",
       "    </tr>\n",
       "    <tr>\n",
       "      <th id=\"T_577b5_level0_row1\" class=\"row_heading level0 row1\" >Na</th>\n",
       "      <td id=\"T_577b5_row1_col0\" class=\"data row1 col0\" >214.000000</td>\n",
       "      <td id=\"T_577b5_row1_col1\" class=\"data row1 col1\" >13.407850</td>\n",
       "      <td id=\"T_577b5_row1_col2\" class=\"data row1 col2\" >0.816604</td>\n",
       "      <td id=\"T_577b5_row1_col3\" class=\"data row1 col3\" >10.730000</td>\n",
       "      <td id=\"T_577b5_row1_col4\" class=\"data row1 col4\" >12.907500</td>\n",
       "      <td id=\"T_577b5_row1_col5\" class=\"data row1 col5\" >13.300000</td>\n",
       "      <td id=\"T_577b5_row1_col6\" class=\"data row1 col6\" >13.825000</td>\n",
       "      <td id=\"T_577b5_row1_col7\" class=\"data row1 col7\" >17.380000</td>\n",
       "    </tr>\n",
       "    <tr>\n",
       "      <th id=\"T_577b5_level0_row2\" class=\"row_heading level0 row2\" >Mg</th>\n",
       "      <td id=\"T_577b5_row2_col0\" class=\"data row2 col0\" >214.000000</td>\n",
       "      <td id=\"T_577b5_row2_col1\" class=\"data row2 col1\" >2.684533</td>\n",
       "      <td id=\"T_577b5_row2_col2\" class=\"data row2 col2\" >1.442408</td>\n",
       "      <td id=\"T_577b5_row2_col3\" class=\"data row2 col3\" >0.000000</td>\n",
       "      <td id=\"T_577b5_row2_col4\" class=\"data row2 col4\" >2.115000</td>\n",
       "      <td id=\"T_577b5_row2_col5\" class=\"data row2 col5\" >3.480000</td>\n",
       "      <td id=\"T_577b5_row2_col6\" class=\"data row2 col6\" >3.600000</td>\n",
       "      <td id=\"T_577b5_row2_col7\" class=\"data row2 col7\" >4.490000</td>\n",
       "    </tr>\n",
       "    <tr>\n",
       "      <th id=\"T_577b5_level0_row3\" class=\"row_heading level0 row3\" >Al</th>\n",
       "      <td id=\"T_577b5_row3_col0\" class=\"data row3 col0\" >214.000000</td>\n",
       "      <td id=\"T_577b5_row3_col1\" class=\"data row3 col1\" >1.444907</td>\n",
       "      <td id=\"T_577b5_row3_col2\" class=\"data row3 col2\" >0.499270</td>\n",
       "      <td id=\"T_577b5_row3_col3\" class=\"data row3 col3\" >0.290000</td>\n",
       "      <td id=\"T_577b5_row3_col4\" class=\"data row3 col4\" >1.190000</td>\n",
       "      <td id=\"T_577b5_row3_col5\" class=\"data row3 col5\" >1.360000</td>\n",
       "      <td id=\"T_577b5_row3_col6\" class=\"data row3 col6\" >1.630000</td>\n",
       "      <td id=\"T_577b5_row3_col7\" class=\"data row3 col7\" >3.500000</td>\n",
       "    </tr>\n",
       "    <tr>\n",
       "      <th id=\"T_577b5_level0_row4\" class=\"row_heading level0 row4\" >Si</th>\n",
       "      <td id=\"T_577b5_row4_col0\" class=\"data row4 col0\" >214.000000</td>\n",
       "      <td id=\"T_577b5_row4_col1\" class=\"data row4 col1\" >72.650935</td>\n",
       "      <td id=\"T_577b5_row4_col2\" class=\"data row4 col2\" >0.774546</td>\n",
       "      <td id=\"T_577b5_row4_col3\" class=\"data row4 col3\" >69.810000</td>\n",
       "      <td id=\"T_577b5_row4_col4\" class=\"data row4 col4\" >72.280000</td>\n",
       "      <td id=\"T_577b5_row4_col5\" class=\"data row4 col5\" >72.790000</td>\n",
       "      <td id=\"T_577b5_row4_col6\" class=\"data row4 col6\" >73.087500</td>\n",
       "      <td id=\"T_577b5_row4_col7\" class=\"data row4 col7\" >75.410000</td>\n",
       "    </tr>\n",
       "    <tr>\n",
       "      <th id=\"T_577b5_level0_row5\" class=\"row_heading level0 row5\" >K</th>\n",
       "      <td id=\"T_577b5_row5_col0\" class=\"data row5 col0\" >214.000000</td>\n",
       "      <td id=\"T_577b5_row5_col1\" class=\"data row5 col1\" >0.497056</td>\n",
       "      <td id=\"T_577b5_row5_col2\" class=\"data row5 col2\" >0.652192</td>\n",
       "      <td id=\"T_577b5_row5_col3\" class=\"data row5 col3\" >0.000000</td>\n",
       "      <td id=\"T_577b5_row5_col4\" class=\"data row5 col4\" >0.122500</td>\n",
       "      <td id=\"T_577b5_row5_col5\" class=\"data row5 col5\" >0.555000</td>\n",
       "      <td id=\"T_577b5_row5_col6\" class=\"data row5 col6\" >0.610000</td>\n",
       "      <td id=\"T_577b5_row5_col7\" class=\"data row5 col7\" >6.210000</td>\n",
       "    </tr>\n",
       "    <tr>\n",
       "      <th id=\"T_577b5_level0_row6\" class=\"row_heading level0 row6\" >Ca</th>\n",
       "      <td id=\"T_577b5_row6_col0\" class=\"data row6 col0\" >214.000000</td>\n",
       "      <td id=\"T_577b5_row6_col1\" class=\"data row6 col1\" >8.956963</td>\n",
       "      <td id=\"T_577b5_row6_col2\" class=\"data row6 col2\" >1.423153</td>\n",
       "      <td id=\"T_577b5_row6_col3\" class=\"data row6 col3\" >5.430000</td>\n",
       "      <td id=\"T_577b5_row6_col4\" class=\"data row6 col4\" >8.240000</td>\n",
       "      <td id=\"T_577b5_row6_col5\" class=\"data row6 col5\" >8.600000</td>\n",
       "      <td id=\"T_577b5_row6_col6\" class=\"data row6 col6\" >9.172500</td>\n",
       "      <td id=\"T_577b5_row6_col7\" class=\"data row6 col7\" >16.190000</td>\n",
       "    </tr>\n",
       "    <tr>\n",
       "      <th id=\"T_577b5_level0_row7\" class=\"row_heading level0 row7\" >Ba</th>\n",
       "      <td id=\"T_577b5_row7_col0\" class=\"data row7 col0\" >214.000000</td>\n",
       "      <td id=\"T_577b5_row7_col1\" class=\"data row7 col1\" >0.175047</td>\n",
       "      <td id=\"T_577b5_row7_col2\" class=\"data row7 col2\" >0.497219</td>\n",
       "      <td id=\"T_577b5_row7_col3\" class=\"data row7 col3\" >0.000000</td>\n",
       "      <td id=\"T_577b5_row7_col4\" class=\"data row7 col4\" >0.000000</td>\n",
       "      <td id=\"T_577b5_row7_col5\" class=\"data row7 col5\" >0.000000</td>\n",
       "      <td id=\"T_577b5_row7_col6\" class=\"data row7 col6\" >0.000000</td>\n",
       "      <td id=\"T_577b5_row7_col7\" class=\"data row7 col7\" >3.150000</td>\n",
       "    </tr>\n",
       "    <tr>\n",
       "      <th id=\"T_577b5_level0_row8\" class=\"row_heading level0 row8\" >Fe</th>\n",
       "      <td id=\"T_577b5_row8_col0\" class=\"data row8 col0\" >214.000000</td>\n",
       "      <td id=\"T_577b5_row8_col1\" class=\"data row8 col1\" >0.057009</td>\n",
       "      <td id=\"T_577b5_row8_col2\" class=\"data row8 col2\" >0.097439</td>\n",
       "      <td id=\"T_577b5_row8_col3\" class=\"data row8 col3\" >0.000000</td>\n",
       "      <td id=\"T_577b5_row8_col4\" class=\"data row8 col4\" >0.000000</td>\n",
       "      <td id=\"T_577b5_row8_col5\" class=\"data row8 col5\" >0.000000</td>\n",
       "      <td id=\"T_577b5_row8_col6\" class=\"data row8 col6\" >0.100000</td>\n",
       "      <td id=\"T_577b5_row8_col7\" class=\"data row8 col7\" >0.510000</td>\n",
       "    </tr>\n",
       "    <tr>\n",
       "      <th id=\"T_577b5_level0_row9\" class=\"row_heading level0 row9\" >Type</th>\n",
       "      <td id=\"T_577b5_row9_col0\" class=\"data row9 col0\" >214.000000</td>\n",
       "      <td id=\"T_577b5_row9_col1\" class=\"data row9 col1\" >2.780374</td>\n",
       "      <td id=\"T_577b5_row9_col2\" class=\"data row9 col2\" >2.103739</td>\n",
       "      <td id=\"T_577b5_row9_col3\" class=\"data row9 col3\" >1.000000</td>\n",
       "      <td id=\"T_577b5_row9_col4\" class=\"data row9 col4\" >1.000000</td>\n",
       "      <td id=\"T_577b5_row9_col5\" class=\"data row9 col5\" >2.000000</td>\n",
       "      <td id=\"T_577b5_row9_col6\" class=\"data row9 col6\" >3.000000</td>\n",
       "      <td id=\"T_577b5_row9_col7\" class=\"data row9 col7\" >7.000000</td>\n",
       "    </tr>\n",
       "  </tbody>\n",
       "</table>\n"
      ],
      "text/plain": [
       "<pandas.io.formats.style.Styler at 0x22a460db890>"
      ]
     },
     "execution_count": 7,
     "metadata": {},
     "output_type": "execute_result"
    }
   ],
   "source": [
    "df.describe().T.style.background_gradient(cmap = 'plasma')"
   ]
  },
  {
   "cell_type": "code",
   "execution_count": 8,
   "metadata": {
    "execution": {
     "iopub.execute_input": "2022-09-29T15:25:46.553003Z",
     "iopub.status.busy": "2022-09-29T15:25:46.552562Z",
     "iopub.status.idle": "2022-09-29T15:25:46.587858Z",
     "shell.execute_reply": "2022-09-29T15:25:46.586786Z",
     "shell.execute_reply.started": "2022-09-29T15:25:46.552966Z"
    }
   },
   "outputs": [
    {
     "data": {
      "text/html": [
       "<style type=\"text/css\">\n",
       "#T_1a291_row0_col0, #T_1a291_row1_col1, #T_1a291_row2_col2, #T_1a291_row3_col3, #T_1a291_row4_col4, #T_1a291_row5_col5, #T_1a291_row6_col6, #T_1a291_row7_col7, #T_1a291_row8_col8, #T_1a291_row9_col9 {\n",
       "  background-color: #f0f921;\n",
       "  color: #000000;\n",
       "}\n",
       "#T_1a291_row0_col1 {\n",
       "  background-color: #310597;\n",
       "  color: #f1f1f1;\n",
       "}\n",
       "#T_1a291_row0_col2 {\n",
       "  background-color: #a31e9a;\n",
       "  color: #f1f1f1;\n",
       "}\n",
       "#T_1a291_row0_col3 {\n",
       "  background-color: #2a0593;\n",
       "  color: #f1f1f1;\n",
       "}\n",
       "#T_1a291_row0_col4, #T_1a291_row1_col8, #T_1a291_row2_col1, #T_1a291_row2_col3, #T_1a291_row2_col6, #T_1a291_row2_col7, #T_1a291_row2_col9, #T_1a291_row4_col0, #T_1a291_row6_col1, #T_1a291_row6_col5, #T_1a291_row9_col2 {\n",
       "  background-color: #0d0887;\n",
       "  color: #f1f1f1;\n",
       "}\n",
       "#T_1a291_row0_col5 {\n",
       "  background-color: #1b068d;\n",
       "  color: #f1f1f1;\n",
       "}\n",
       "#T_1a291_row0_col6 {\n",
       "  background-color: #fdc229;\n",
       "  color: #000000;\n",
       "}\n",
       "#T_1a291_row0_col7, #T_1a291_row4_col2 {\n",
       "  background-color: #9a169f;\n",
       "  color: #f1f1f1;\n",
       "}\n",
       "#T_1a291_row0_col8 {\n",
       "  background-color: #9410a2;\n",
       "  color: #f1f1f1;\n",
       "}\n",
       "#T_1a291_row0_col9 {\n",
       "  background-color: #9c179e;\n",
       "  color: #f1f1f1;\n",
       "}\n",
       "#T_1a291_row1_col0, #T_1a291_row7_col6 {\n",
       "  background-color: #7501a8;\n",
       "  color: #f1f1f1;\n",
       "}\n",
       "#T_1a291_row1_col2, #T_1a291_row2_col0 {\n",
       "  background-color: #8606a6;\n",
       "  color: #f1f1f1;\n",
       "}\n",
       "#T_1a291_row1_col3, #T_1a291_row5_col2 {\n",
       "  background-color: #ba3388;\n",
       "  color: #f1f1f1;\n",
       "}\n",
       "#T_1a291_row1_col4, #T_1a291_row9_col6 {\n",
       "  background-color: #920fa3;\n",
       "  color: #f1f1f1;\n",
       "}\n",
       "#T_1a291_row1_col5, #T_1a291_row9_col8 {\n",
       "  background-color: #260591;\n",
       "  color: #f1f1f1;\n",
       "}\n",
       "#T_1a291_row1_col6 {\n",
       "  background-color: #48039f;\n",
       "  color: #f1f1f1;\n",
       "}\n",
       "#T_1a291_row1_col7 {\n",
       "  background-color: #d6556d;\n",
       "  color: #f1f1f1;\n",
       "}\n",
       "#T_1a291_row1_col9, #T_1a291_row9_col7 {\n",
       "  background-color: #f48948;\n",
       "  color: #f1f1f1;\n",
       "}\n",
       "#T_1a291_row2_col4, #T_1a291_row2_col5, #T_1a291_row9_col0 {\n",
       "  background-color: #7b02a8;\n",
       "  color: #f1f1f1;\n",
       "}\n",
       "#T_1a291_row2_col8, #T_1a291_row4_col7 {\n",
       "  background-color: #8104a7;\n",
       "  color: #f1f1f1;\n",
       "}\n",
       "#T_1a291_row3_col0, #T_1a291_row5_col6 {\n",
       "  background-color: #3c049b;\n",
       "  color: #f1f1f1;\n",
       "}\n",
       "#T_1a291_row3_col1 {\n",
       "  background-color: #9d189d;\n",
       "  color: #f1f1f1;\n",
       "}\n",
       "#T_1a291_row3_col2, #T_1a291_row6_col3 {\n",
       "  background-color: #5601a4;\n",
       "  color: #f1f1f1;\n",
       "}\n",
       "#T_1a291_row3_col4, #T_1a291_row7_col0 {\n",
       "  background-color: #a11b9b;\n",
       "  color: #f1f1f1;\n",
       "}\n",
       "#T_1a291_row3_col5 {\n",
       "  background-color: #c9447a;\n",
       "  color: #f1f1f1;\n",
       "}\n",
       "#T_1a291_row3_col6 {\n",
       "  background-color: #4c02a1;\n",
       "  color: #f1f1f1;\n",
       "}\n",
       "#T_1a291_row3_col7, #T_1a291_row7_col3 {\n",
       "  background-color: #ea7457;\n",
       "  color: #f1f1f1;\n",
       "}\n",
       "#T_1a291_row3_col8 {\n",
       "  background-color: #5002a2;\n",
       "  color: #f1f1f1;\n",
       "}\n",
       "#T_1a291_row3_col9 {\n",
       "  background-color: #fa9c3c;\n",
       "  color: #000000;\n",
       "}\n",
       "#T_1a291_row4_col1, #T_1a291_row4_col6, #T_1a291_row5_col0 {\n",
       "  background-color: #5b01a5;\n",
       "  color: #f1f1f1;\n",
       "}\n",
       "#T_1a291_row4_col3 {\n",
       "  background-color: #9814a0;\n",
       "  color: #f1f1f1;\n",
       "}\n",
       "#T_1a291_row4_col5 {\n",
       "  background-color: #3f049c;\n",
       "  color: #f1f1f1;\n",
       "}\n",
       "#T_1a291_row4_col8 {\n",
       "  background-color: #4903a0;\n",
       "  color: #f1f1f1;\n",
       "}\n",
       "#T_1a291_row4_col9 {\n",
       "  background-color: #ce4b75;\n",
       "  color: #f1f1f1;\n",
       "}\n",
       "#T_1a291_row5_col1 {\n",
       "  background-color: #100788;\n",
       "  color: #f1f1f1;\n",
       "}\n",
       "#T_1a291_row5_col3 {\n",
       "  background-color: #d5546e;\n",
       "  color: #f1f1f1;\n",
       "}\n",
       "#T_1a291_row5_col4 {\n",
       "  background-color: #7401a8;\n",
       "  color: #f1f1f1;\n",
       "}\n",
       "#T_1a291_row5_col7 {\n",
       "  background-color: #910ea3;\n",
       "  color: #f1f1f1;\n",
       "}\n",
       "#T_1a291_row5_col8 {\n",
       "  background-color: #6600a7;\n",
       "  color: #f1f1f1;\n",
       "}\n",
       "#T_1a291_row5_col9 {\n",
       "  background-color: #b6308b;\n",
       "  color: #f1f1f1;\n",
       "}\n",
       "#T_1a291_row6_col0 {\n",
       "  background-color: #fdc527;\n",
       "  color: #000000;\n",
       "}\n",
       "#T_1a291_row6_col2 {\n",
       "  background-color: #6001a6;\n",
       "  color: #f1f1f1;\n",
       "}\n",
       "#T_1a291_row6_col4 {\n",
       "  background-color: #7100a8;\n",
       "  color: #f1f1f1;\n",
       "}\n",
       "#T_1a291_row6_col7 {\n",
       "  background-color: #8004a8;\n",
       "  color: #f1f1f1;\n",
       "}\n",
       "#T_1a291_row6_col8 {\n",
       "  background-color: #8e0ca4;\n",
       "  color: #f1f1f1;\n",
       "}\n",
       "#T_1a291_row6_col9 {\n",
       "  background-color: #b83289;\n",
       "  color: #f1f1f1;\n",
       "}\n",
       "#T_1a291_row7_col1 {\n",
       "  background-color: #c43e7f;\n",
       "  color: #f1f1f1;\n",
       "}\n",
       "#T_1a291_row7_col2, #T_1a291_row7_col8 {\n",
       "  background-color: #5502a4;\n",
       "  color: #f1f1f1;\n",
       "}\n",
       "#T_1a291_row7_col4 {\n",
       "  background-color: #8b0aa5;\n",
       "  color: #f1f1f1;\n",
       "}\n",
       "#T_1a291_row7_col5 {\n",
       "  background-color: #6e00a8;\n",
       "  color: #f1f1f1;\n",
       "}\n",
       "#T_1a291_row7_col9 {\n",
       "  background-color: #f9973f;\n",
       "  color: #000000;\n",
       "}\n",
       "#T_1a291_row8_col0 {\n",
       "  background-color: #bd3786;\n",
       "  color: #f1f1f1;\n",
       "}\n",
       "#T_1a291_row8_col1 {\n",
       "  background-color: #1d068e;\n",
       "  color: #f1f1f1;\n",
       "}\n",
       "#T_1a291_row8_col2 {\n",
       "  background-color: #c5407e;\n",
       "  color: #f1f1f1;\n",
       "}\n",
       "#T_1a291_row8_col3 {\n",
       "  background-color: #8707a6;\n",
       "  color: #f1f1f1;\n",
       "}\n",
       "#T_1a291_row8_col4, #T_1a291_row8_col7 {\n",
       "  background-color: #8d0ba5;\n",
       "  color: #f1f1f1;\n",
       "}\n",
       "#T_1a291_row8_col5 {\n",
       "  background-color: #7801a8;\n",
       "  color: #f1f1f1;\n",
       "}\n",
       "#T_1a291_row8_col6 {\n",
       "  background-color: #ae2892;\n",
       "  color: #f1f1f1;\n",
       "}\n",
       "#T_1a291_row8_col9 {\n",
       "  background-color: #9613a1;\n",
       "  color: #f1f1f1;\n",
       "}\n",
       "#T_1a291_row9_col1 {\n",
       "  background-color: #e3685f;\n",
       "  color: #f1f1f1;\n",
       "}\n",
       "#T_1a291_row9_col3 {\n",
       "  background-color: #f68d45;\n",
       "  color: #f1f1f1;\n",
       "}\n",
       "#T_1a291_row9_col4 {\n",
       "  background-color: #bf3984;\n",
       "  color: #f1f1f1;\n",
       "}\n",
       "#T_1a291_row9_col5 {\n",
       "  background-color: #7701a8;\n",
       "  color: #f1f1f1;\n",
       "}\n",
       "</style>\n",
       "<table id=\"T_1a291\">\n",
       "  <thead>\n",
       "    <tr>\n",
       "      <th class=\"blank level0\" >&nbsp;</th>\n",
       "      <th id=\"T_1a291_level0_col0\" class=\"col_heading level0 col0\" >RI</th>\n",
       "      <th id=\"T_1a291_level0_col1\" class=\"col_heading level0 col1\" >Na</th>\n",
       "      <th id=\"T_1a291_level0_col2\" class=\"col_heading level0 col2\" >Mg</th>\n",
       "      <th id=\"T_1a291_level0_col3\" class=\"col_heading level0 col3\" >Al</th>\n",
       "      <th id=\"T_1a291_level0_col4\" class=\"col_heading level0 col4\" >Si</th>\n",
       "      <th id=\"T_1a291_level0_col5\" class=\"col_heading level0 col5\" >K</th>\n",
       "      <th id=\"T_1a291_level0_col6\" class=\"col_heading level0 col6\" >Ca</th>\n",
       "      <th id=\"T_1a291_level0_col7\" class=\"col_heading level0 col7\" >Ba</th>\n",
       "      <th id=\"T_1a291_level0_col8\" class=\"col_heading level0 col8\" >Fe</th>\n",
       "      <th id=\"T_1a291_level0_col9\" class=\"col_heading level0 col9\" >Type</th>\n",
       "    </tr>\n",
       "  </thead>\n",
       "  <tbody>\n",
       "    <tr>\n",
       "      <th id=\"T_1a291_level0_row0\" class=\"row_heading level0 row0\" >RI</th>\n",
       "      <td id=\"T_1a291_row0_col0\" class=\"data row0 col0\" >1.000000</td>\n",
       "      <td id=\"T_1a291_row0_col1\" class=\"data row0 col1\" >-0.191885</td>\n",
       "      <td id=\"T_1a291_row0_col2\" class=\"data row0 col2\" >-0.122274</td>\n",
       "      <td id=\"T_1a291_row0_col3\" class=\"data row0 col3\" >-0.407326</td>\n",
       "      <td id=\"T_1a291_row0_col4\" class=\"data row0 col4\" >-0.542052</td>\n",
       "      <td id=\"T_1a291_row0_col5\" class=\"data row0 col5\" >-0.289833</td>\n",
       "      <td id=\"T_1a291_row0_col6\" class=\"data row0 col6\" >0.810403</td>\n",
       "      <td id=\"T_1a291_row0_col7\" class=\"data row0 col7\" >-0.000386</td>\n",
       "      <td id=\"T_1a291_row0_col8\" class=\"data row0 col8\" >0.143010</td>\n",
       "      <td id=\"T_1a291_row0_col9\" class=\"data row0 col9\" >-0.164237</td>\n",
       "    </tr>\n",
       "    <tr>\n",
       "      <th id=\"T_1a291_level0_row1\" class=\"row_heading level0 row1\" >Na</th>\n",
       "      <td id=\"T_1a291_row1_col0\" class=\"data row1 col0\" >-0.191885</td>\n",
       "      <td id=\"T_1a291_row1_col1\" class=\"data row1 col1\" >1.000000</td>\n",
       "      <td id=\"T_1a291_row1_col2\" class=\"data row1 col2\" >-0.273732</td>\n",
       "      <td id=\"T_1a291_row1_col3\" class=\"data row1 col3\" >0.156794</td>\n",
       "      <td id=\"T_1a291_row1_col4\" class=\"data row1 col4\" >-0.069809</td>\n",
       "      <td id=\"T_1a291_row1_col5\" class=\"data row1 col5\" >-0.266087</td>\n",
       "      <td id=\"T_1a291_row1_col6\" class=\"data row1 col6\" >-0.275442</td>\n",
       "      <td id=\"T_1a291_row1_col7\" class=\"data row1 col7\" >0.326603</td>\n",
       "      <td id=\"T_1a291_row1_col8\" class=\"data row1 col8\" >-0.241346</td>\n",
       "      <td id=\"T_1a291_row1_col9\" class=\"data row1 col9\" >0.502898</td>\n",
       "    </tr>\n",
       "    <tr>\n",
       "      <th id=\"T_1a291_level0_row2\" class=\"row_heading level0 row2\" >Mg</th>\n",
       "      <td id=\"T_1a291_row2_col0\" class=\"data row2 col0\" >-0.122274</td>\n",
       "      <td id=\"T_1a291_row2_col1\" class=\"data row2 col1\" >-0.273732</td>\n",
       "      <td id=\"T_1a291_row2_col2\" class=\"data row2 col2\" >1.000000</td>\n",
       "      <td id=\"T_1a291_row2_col3\" class=\"data row2 col3\" >-0.481799</td>\n",
       "      <td id=\"T_1a291_row2_col4\" class=\"data row2 col4\" >-0.165927</td>\n",
       "      <td id=\"T_1a291_row2_col5\" class=\"data row2 col5\" >0.005396</td>\n",
       "      <td id=\"T_1a291_row2_col6\" class=\"data row2 col6\" >-0.443750</td>\n",
       "      <td id=\"T_1a291_row2_col7\" class=\"data row2 col7\" >-0.492262</td>\n",
       "      <td id=\"T_1a291_row2_col8\" class=\"data row2 col8\" >0.083060</td>\n",
       "      <td id=\"T_1a291_row2_col9\" class=\"data row2 col9\" >-0.744993</td>\n",
       "    </tr>\n",
       "    <tr>\n",
       "      <th id=\"T_1a291_level0_row3\" class=\"row_heading level0 row3\" >Al</th>\n",
       "      <td id=\"T_1a291_row3_col0\" class=\"data row3 col0\" >-0.407326</td>\n",
       "      <td id=\"T_1a291_row3_col1\" class=\"data row3 col1\" >0.156794</td>\n",
       "      <td id=\"T_1a291_row3_col2\" class=\"data row3 col2\" >-0.481799</td>\n",
       "      <td id=\"T_1a291_row3_col3\" class=\"data row3 col3\" >1.000000</td>\n",
       "      <td id=\"T_1a291_row3_col4\" class=\"data row3 col4\" >-0.005524</td>\n",
       "      <td id=\"T_1a291_row3_col5\" class=\"data row3 col5\" >0.325958</td>\n",
       "      <td id=\"T_1a291_row3_col6\" class=\"data row3 col6\" >-0.259592</td>\n",
       "      <td id=\"T_1a291_row3_col7\" class=\"data row3 col7\" >0.479404</td>\n",
       "      <td id=\"T_1a291_row3_col8\" class=\"data row3 col8\" >-0.074402</td>\n",
       "      <td id=\"T_1a291_row3_col9\" class=\"data row3 col9\" >0.598829</td>\n",
       "    </tr>\n",
       "    <tr>\n",
       "      <th id=\"T_1a291_level0_row4\" class=\"row_heading level0 row4\" >Si</th>\n",
       "      <td id=\"T_1a291_row4_col0\" class=\"data row4 col0\" >-0.542052</td>\n",
       "      <td id=\"T_1a291_row4_col1\" class=\"data row4 col1\" >-0.069809</td>\n",
       "      <td id=\"T_1a291_row4_col2\" class=\"data row4 col2\" >-0.165927</td>\n",
       "      <td id=\"T_1a291_row4_col3\" class=\"data row4 col3\" >-0.005524</td>\n",
       "      <td id=\"T_1a291_row4_col4\" class=\"data row4 col4\" >1.000000</td>\n",
       "      <td id=\"T_1a291_row4_col5\" class=\"data row4 col5\" >-0.193331</td>\n",
       "      <td id=\"T_1a291_row4_col6\" class=\"data row4 col6\" >-0.208732</td>\n",
       "      <td id=\"T_1a291_row4_col7\" class=\"data row4 col7\" >-0.102151</td>\n",
       "      <td id=\"T_1a291_row4_col8\" class=\"data row4 col8\" >-0.094201</td>\n",
       "      <td id=\"T_1a291_row4_col9\" class=\"data row4 col9\" >0.151565</td>\n",
       "    </tr>\n",
       "    <tr>\n",
       "      <th id=\"T_1a291_level0_row5\" class=\"row_heading level0 row5\" >K</th>\n",
       "      <td id=\"T_1a291_row5_col0\" class=\"data row5 col0\" >-0.289833</td>\n",
       "      <td id=\"T_1a291_row5_col1\" class=\"data row5 col1\" >-0.266087</td>\n",
       "      <td id=\"T_1a291_row5_col2\" class=\"data row5 col2\" >0.005396</td>\n",
       "      <td id=\"T_1a291_row5_col3\" class=\"data row5 col3\" >0.325958</td>\n",
       "      <td id=\"T_1a291_row5_col4\" class=\"data row5 col4\" >-0.193331</td>\n",
       "      <td id=\"T_1a291_row5_col5\" class=\"data row5 col5\" >1.000000</td>\n",
       "      <td id=\"T_1a291_row5_col6\" class=\"data row5 col6\" >-0.317836</td>\n",
       "      <td id=\"T_1a291_row5_col7\" class=\"data row5 col7\" >-0.042618</td>\n",
       "      <td id=\"T_1a291_row5_col8\" class=\"data row5 col8\" >-0.007719</td>\n",
       "      <td id=\"T_1a291_row5_col9\" class=\"data row5 col9\" >-0.010054</td>\n",
       "    </tr>\n",
       "    <tr>\n",
       "      <th id=\"T_1a291_level0_row6\" class=\"row_heading level0 row6\" >Ca</th>\n",
       "      <td id=\"T_1a291_row6_col0\" class=\"data row6 col0\" >0.810403</td>\n",
       "      <td id=\"T_1a291_row6_col1\" class=\"data row6 col1\" >-0.275442</td>\n",
       "      <td id=\"T_1a291_row6_col2\" class=\"data row6 col2\" >-0.443750</td>\n",
       "      <td id=\"T_1a291_row6_col3\" class=\"data row6 col3\" >-0.259592</td>\n",
       "      <td id=\"T_1a291_row6_col4\" class=\"data row6 col4\" >-0.208732</td>\n",
       "      <td id=\"T_1a291_row6_col5\" class=\"data row6 col5\" >-0.317836</td>\n",
       "      <td id=\"T_1a291_row6_col6\" class=\"data row6 col6\" >1.000000</td>\n",
       "      <td id=\"T_1a291_row6_col7\" class=\"data row6 col7\" >-0.112841</td>\n",
       "      <td id=\"T_1a291_row6_col8\" class=\"data row6 col8\" >0.124968</td>\n",
       "      <td id=\"T_1a291_row6_col9\" class=\"data row6 col9\" >0.000952</td>\n",
       "    </tr>\n",
       "    <tr>\n",
       "      <th id=\"T_1a291_level0_row7\" class=\"row_heading level0 row7\" >Ba</th>\n",
       "      <td id=\"T_1a291_row7_col0\" class=\"data row7 col0\" >-0.000386</td>\n",
       "      <td id=\"T_1a291_row7_col1\" class=\"data row7 col1\" >0.326603</td>\n",
       "      <td id=\"T_1a291_row7_col2\" class=\"data row7 col2\" >-0.492262</td>\n",
       "      <td id=\"T_1a291_row7_col3\" class=\"data row7 col3\" >0.479404</td>\n",
       "      <td id=\"T_1a291_row7_col4\" class=\"data row7 col4\" >-0.102151</td>\n",
       "      <td id=\"T_1a291_row7_col5\" class=\"data row7 col5\" >-0.042618</td>\n",
       "      <td id=\"T_1a291_row7_col6\" class=\"data row7 col6\" >-0.112841</td>\n",
       "      <td id=\"T_1a291_row7_col7\" class=\"data row7 col7\" >1.000000</td>\n",
       "      <td id=\"T_1a291_row7_col8\" class=\"data row7 col8\" >-0.058692</td>\n",
       "      <td id=\"T_1a291_row7_col9\" class=\"data row7 col9\" >0.575161</td>\n",
       "    </tr>\n",
       "    <tr>\n",
       "      <th id=\"T_1a291_level0_row8\" class=\"row_heading level0 row8\" >Fe</th>\n",
       "      <td id=\"T_1a291_row8_col0\" class=\"data row8 col0\" >0.143010</td>\n",
       "      <td id=\"T_1a291_row8_col1\" class=\"data row8 col1\" >-0.241346</td>\n",
       "      <td id=\"T_1a291_row8_col2\" class=\"data row8 col2\" >0.083060</td>\n",
       "      <td id=\"T_1a291_row8_col3\" class=\"data row8 col3\" >-0.074402</td>\n",
       "      <td id=\"T_1a291_row8_col4\" class=\"data row8 col4\" >-0.094201</td>\n",
       "      <td id=\"T_1a291_row8_col5\" class=\"data row8 col5\" >-0.007719</td>\n",
       "      <td id=\"T_1a291_row8_col6\" class=\"data row8 col6\" >0.124968</td>\n",
       "      <td id=\"T_1a291_row8_col7\" class=\"data row8 col7\" >-0.058692</td>\n",
       "      <td id=\"T_1a291_row8_col8\" class=\"data row8 col8\" >1.000000</td>\n",
       "      <td id=\"T_1a291_row8_col9\" class=\"data row8 col9\" >-0.188278</td>\n",
       "    </tr>\n",
       "    <tr>\n",
       "      <th id=\"T_1a291_level0_row9\" class=\"row_heading level0 row9\" >Type</th>\n",
       "      <td id=\"T_1a291_row9_col0\" class=\"data row9 col0\" >-0.164237</td>\n",
       "      <td id=\"T_1a291_row9_col1\" class=\"data row9 col1\" >0.502898</td>\n",
       "      <td id=\"T_1a291_row9_col2\" class=\"data row9 col2\" >-0.744993</td>\n",
       "      <td id=\"T_1a291_row9_col3\" class=\"data row9 col3\" >0.598829</td>\n",
       "      <td id=\"T_1a291_row9_col4\" class=\"data row9 col4\" >0.151565</td>\n",
       "      <td id=\"T_1a291_row9_col5\" class=\"data row9 col5\" >-0.010054</td>\n",
       "      <td id=\"T_1a291_row9_col6\" class=\"data row9 col6\" >0.000952</td>\n",
       "      <td id=\"T_1a291_row9_col7\" class=\"data row9 col7\" >0.575161</td>\n",
       "      <td id=\"T_1a291_row9_col8\" class=\"data row9 col8\" >-0.188278</td>\n",
       "      <td id=\"T_1a291_row9_col9\" class=\"data row9 col9\" >1.000000</td>\n",
       "    </tr>\n",
       "  </tbody>\n",
       "</table>\n"
      ],
      "text/plain": [
       "<pandas.io.formats.style.Styler at 0x22a46507290>"
      ]
     },
     "execution_count": 8,
     "metadata": {},
     "output_type": "execute_result"
    }
   ],
   "source": [
    "df.corr().style.background_gradient(cmap = 'plasma')"
   ]
  },
  {
   "cell_type": "markdown",
   "metadata": {},
   "source": [
    "no feature with high correlation with feature target (Type of glass) so we use non linear model"
   ]
  },
  {
   "cell_type": "code",
   "execution_count": 9,
   "metadata": {
    "execution": {
     "iopub.execute_input": "2022-09-29T15:32:42.098098Z",
     "iopub.status.busy": "2022-09-29T15:32:42.097606Z",
     "iopub.status.idle": "2022-09-29T15:32:42.363522Z",
     "shell.execute_reply": "2022-09-29T15:32:42.362374Z",
     "shell.execute_reply.started": "2022-09-29T15:32:42.098063Z"
    }
   },
   "outputs": [
    {
     "data": {
      "text/plain": [
       "<seaborn.axisgrid.FacetGrid at 0x22a464fbd90>"
      ]
     },
     "execution_count": 9,
     "metadata": {},
     "output_type": "execute_result"
    },
    {
     "data": {
      "image/png": "[encoded data removed]",
      "text/plain": [
       "<Figure size 500x500 with 1 Axes>"
      ]
     },
     "metadata": {},
     "output_type": "display_data"
    }
   ],
   "source": [
    "sns.catplot(x='K', kind='box', data=df)"
   ]
  },
  {
   "cell_type": "code",
   "execution_count": 10,
   "metadata": {
    "execution": {
     "iopub.execute_input": "2022-09-29T15:32:59.184006Z",
     "iopub.status.busy": "2022-09-29T15:32:59.183606Z",
     "iopub.status.idle": "2022-09-29T15:32:59.439896Z",
     "shell.execute_reply": "2022-09-29T15:32:59.438783Z",
     "shell.execute_reply.started": "2022-09-29T15:32:59.183973Z"
    }
   },
   "outputs": [
    {
     "data": {
      "text/plain": [
       "<seaborn.axisgrid.FacetGrid at 0x22a46ddc310>"
      ]
     },
     "execution_count": 10,
     "metadata": {},
     "output_type": "execute_result"
    },
    {
     "data": {
      "image/png": "[encoded data removed]",
      "text/plain": [
       "<Figure size 500x500 with 1 Axes>"
      ]
     },
     "metadata": {},
     "output_type": "display_data"
    }
   ],
   "source": [
    "sns.catplot(x='Ca', kind='box', data=df)"
   ]
  },
  {
   "cell_type": "code",
   "execution_count": 11,
   "metadata": {
    "execution": {
     "iopub.execute_input": "2022-09-29T15:33:14.164662Z",
     "iopub.status.busy": "2022-09-29T15:33:14.164218Z",
     "iopub.status.idle": "2022-09-29T15:33:14.42512Z",
     "shell.execute_reply": "2022-09-29T15:33:14.42386Z",
     "shell.execute_reply.started": "2022-09-29T15:33:14.164629Z"
    }
   },
   "outputs": [
    {
     "data": {
      "text/plain": [
       "<seaborn.axisgrid.FacetGrid at 0x22a48123c90>"
      ]
     },
     "execution_count": 11,
     "metadata": {},
     "output_type": "execute_result"
    },
    {
     "data": {
      "image/png": "[encoded data removed]",
      "text/plain": [
       "<Figure size 500x500 with 1 Axes>"
      ]
     },
     "metadata": {},
     "output_type": "display_data"
    }
   ],
   "source": [
    "sns.catplot(x='Ba', kind='box', data=df)"
   ]
  },
  {
   "cell_type": "code",
   "execution_count": 12,
   "metadata": {
    "execution": {
     "iopub.execute_input": "2022-09-29T15:33:39.447284Z",
     "iopub.status.busy": "2022-09-29T15:33:39.446113Z",
     "iopub.status.idle": "2022-09-29T15:33:39.654868Z",
     "shell.execute_reply": "2022-09-29T15:33:39.654123Z",
     "shell.execute_reply.started": "2022-09-29T15:33:39.447243Z"
    }
   },
   "outputs": [
    {
     "data": {
      "text/plain": [
       "<seaborn.axisgrid.FacetGrid at 0x22a4818c210>"
      ]
     },
     "execution_count": 12,
     "metadata": {},
     "output_type": "execute_result"
    },
    {
     "data": {
      "image/png": "[encoded data removed]",
      "text/plain": [
       "<Figure size 500x500 with 1 Axes>"
      ]
     },
     "metadata": {},
     "output_type": "display_data"
    }
   ],
   "source": [
    "sns.catplot(x='Fe', kind='box', data=df)"
   ]
  },
  {
   "cell_type": "markdown",
   "metadata": {},
   "source": [
    "### 3. Preprocessing <a id=3></a>\n",
    "[back to top](#100)"
   ]
  },
  {
   "cell_type": "code",
   "execution_count": 13,
   "metadata": {},
   "outputs": [
    {
     "data": {
      "text/plain": [
       "2    76\n",
       "1    70\n",
       "7    29\n",
       "3    17\n",
       "5    13\n",
       "6     9\n",
       "Name: Type, dtype: int64"
      ]
     },
     "execution_count": 13,
     "metadata": {},
     "output_type": "execute_result"
    }
   ],
   "source": [
    "df[\"Type\"].value_counts()"
   ]
  },
  {
   "cell_type": "markdown",
   "metadata": {},
   "source": [
    "Removing Target Variable By Using `pop()`"
   ]
  },
  {
   "cell_type": "code",
   "execution_count": 14,
   "metadata": {
    "execution": {
     "iopub.execute_input": "2022-09-29T15:36:45.670947Z",
     "iopub.status.busy": "2022-09-29T15:36:45.670547Z",
     "iopub.status.idle": "2022-09-29T15:36:45.678136Z",
     "shell.execute_reply": "2022-09-29T15:36:45.677098Z",
     "shell.execute_reply.started": "2022-09-29T15:36:45.670902Z"
    }
   },
   "outputs": [],
   "source": [
    "dfy = df.pop('Type')"
   ]
  },
  {
   "cell_type": "markdown",
   "metadata": {},
   "source": [
    "#### Encoding The Data By Using `LabelEncoder`:"
   ]
  },
  {
   "cell_type": "code",
   "execution_count": 15,
   "metadata": {},
   "outputs": [],
   "source": [
    "lblency = LabelEncoder()\n",
    "lblency.fit(dfy)\n",
    "dfylbl = lblency.transform(dfy)\n",
    "dfylbl = pd.DataFrame(dfylbl, columns=['type'])"
   ]
  },
  {
   "cell_type": "markdown",
   "metadata": {},
   "source": [
    "Observing If Any Data improper"
   ]
  },
  {
   "cell_type": "code",
   "execution_count": 16,
   "metadata": {
    "scrolled": true
   },
   "outputs": [
    {
     "data": {
      "text/html": [
       "<div>\n",
       "<style scoped>\n",
       "    .dataframe tbody tr th:only-of-type {\n",
       "        vertical-align: middle;\n",
       "    }\n",
       "\n",
       "    .dataframe tbody tr th {\n",
       "        vertical-align: top;\n",
       "    }\n",
       "\n",
       "    .dataframe thead th {\n",
       "        text-align: right;\n",
       "    }\n",
       "</style>\n",
       "<table border=\"1\" class=\"dataframe\">\n",
       "  <thead>\n",
       "    <tr style=\"text-align: right;\">\n",
       "      <th></th>\n",
       "      <th>RI</th>\n",
       "      <th>Na</th>\n",
       "      <th>Mg</th>\n",
       "      <th>Al</th>\n",
       "      <th>Si</th>\n",
       "      <th>K</th>\n",
       "      <th>Ca</th>\n",
       "      <th>Ba</th>\n",
       "      <th>Fe</th>\n",
       "    </tr>\n",
       "  </thead>\n",
       "  <tbody>\n",
       "    <tr>\n",
       "      <th>count</th>\n",
       "      <td>214.000000</td>\n",
       "      <td>214.000000</td>\n",
       "      <td>214.000000</td>\n",
       "      <td>214.000000</td>\n",
       "      <td>214.000000</td>\n",
       "      <td>214.000000</td>\n",
       "      <td>214.000000</td>\n",
       "      <td>214.000000</td>\n",
       "      <td>214.000000</td>\n",
       "    </tr>\n",
       "    <tr>\n",
       "      <th>mean</th>\n",
       "      <td>1.518365</td>\n",
       "      <td>13.407850</td>\n",
       "      <td>2.684533</td>\n",
       "      <td>1.444907</td>\n",
       "      <td>72.650935</td>\n",
       "      <td>0.497056</td>\n",
       "      <td>8.956963</td>\n",
       "      <td>0.175047</td>\n",
       "      <td>0.057009</td>\n",
       "    </tr>\n",
       "    <tr>\n",
       "      <th>std</th>\n",
       "      <td>0.003037</td>\n",
       "      <td>0.816604</td>\n",
       "      <td>1.442408</td>\n",
       "      <td>0.499270</td>\n",
       "      <td>0.774546</td>\n",
       "      <td>0.652192</td>\n",
       "      <td>1.423153</td>\n",
       "      <td>0.497219</td>\n",
       "      <td>0.097439</td>\n",
       "    </tr>\n",
       "    <tr>\n",
       "      <th>min</th>\n",
       "      <td>1.511150</td>\n",
       "      <td>10.730000</td>\n",
       "      <td>0.000000</td>\n",
       "      <td>0.290000</td>\n",
       "      <td>69.810000</td>\n",
       "      <td>0.000000</td>\n",
       "      <td>5.430000</td>\n",
       "      <td>0.000000</td>\n",
       "      <td>0.000000</td>\n",
       "    </tr>\n",
       "    <tr>\n",
       "      <th>25%</th>\n",
       "      <td>1.516522</td>\n",
       "      <td>12.907500</td>\n",
       "      <td>2.115000</td>\n",
       "      <td>1.190000</td>\n",
       "      <td>72.280000</td>\n",
       "      <td>0.122500</td>\n",
       "      <td>8.240000</td>\n",
       "      <td>0.000000</td>\n",
       "      <td>0.000000</td>\n",
       "    </tr>\n",
       "    <tr>\n",
       "      <th>50%</th>\n",
       "      <td>1.517680</td>\n",
       "      <td>13.300000</td>\n",
       "      <td>3.480000</td>\n",
       "      <td>1.360000</td>\n",
       "      <td>72.790000</td>\n",
       "      <td>0.555000</td>\n",
       "      <td>8.600000</td>\n",
       "      <td>0.000000</td>\n",
       "      <td>0.000000</td>\n",
       "    </tr>\n",
       "    <tr>\n",
       "      <th>75%</th>\n",
       "      <td>1.519157</td>\n",
       "      <td>13.825000</td>\n",
       "      <td>3.600000</td>\n",
       "      <td>1.630000</td>\n",
       "      <td>73.087500</td>\n",
       "      <td>0.610000</td>\n",
       "      <td>9.172500</td>\n",
       "      <td>0.000000</td>\n",
       "      <td>0.100000</td>\n",
       "    </tr>\n",
       "    <tr>\n",
       "      <th>max</th>\n",
       "      <td>1.533930</td>\n",
       "      <td>17.380000</td>\n",
       "      <td>4.490000</td>\n",
       "      <td>3.500000</td>\n",
       "      <td>75.410000</td>\n",
       "      <td>6.210000</td>\n",
       "      <td>16.190000</td>\n",
       "      <td>3.150000</td>\n",
       "      <td>0.510000</td>\n",
       "    </tr>\n",
       "  </tbody>\n",
       "</table>\n",
       "</div>"
      ],
      "text/plain": [
       "               RI          Na          Mg          Al          Si           K  \\\n",
       "count  214.000000  214.000000  214.000000  214.000000  214.000000  214.000000   \n",
       "mean     1.518365   13.407850    2.684533    1.444907   72.650935    0.497056   \n",
       "std      0.003037    0.816604    1.442408    0.499270    0.774546    0.652192   \n",
       "min      1.511150   10.730000    0.000000    0.290000   69.810000    0.000000   \n",
       "25%      1.516522   12.907500    2.115000    1.190000   72.280000    0.122500   \n",
       "50%      1.517680   13.300000    3.480000    1.360000   72.790000    0.555000   \n",
       "75%      1.519157   13.825000    3.600000    1.630000   73.087500    0.610000   \n",
       "max      1.533930   17.380000    4.490000    3.500000   75.410000    6.210000   \n",
       "\n",
       "               Ca          Ba          Fe  \n",
       "count  214.000000  214.000000  214.000000  \n",
       "mean     8.956963    0.175047    0.057009  \n",
       "std      1.423153    0.497219    0.097439  \n",
       "min      5.430000    0.000000    0.000000  \n",
       "25%      8.240000    0.000000    0.000000  \n",
       "50%      8.600000    0.000000    0.000000  \n",
       "75%      9.172500    0.000000    0.100000  \n",
       "max     16.190000    3.150000    0.510000  "
      ]
     },
     "execution_count": 16,
     "metadata": {},
     "output_type": "execute_result"
    }
   ],
   "source": [
    "df.describe()"
   ]
  },
  {
   "cell_type": "code",
   "execution_count": 17,
   "metadata": {},
   "outputs": [
    {
     "data": {
      "text/html": [
       "<div>\n",
       "<style scoped>\n",
       "    .dataframe tbody tr th:only-of-type {\n",
       "        vertical-align: middle;\n",
       "    }\n",
       "\n",
       "    .dataframe tbody tr th {\n",
       "        vertical-align: top;\n",
       "    }\n",
       "\n",
       "    .dataframe thead th {\n",
       "        text-align: right;\n",
       "    }\n",
       "</style>\n",
       "<table border=\"1\" class=\"dataframe\">\n",
       "  <thead>\n",
       "    <tr style=\"text-align: right;\">\n",
       "      <th></th>\n",
       "      <th>type</th>\n",
       "    </tr>\n",
       "  </thead>\n",
       "  <tbody>\n",
       "    <tr>\n",
       "      <th>count</th>\n",
       "      <td>214.000000</td>\n",
       "    </tr>\n",
       "    <tr>\n",
       "      <th>mean</th>\n",
       "      <td>1.542056</td>\n",
       "    </tr>\n",
       "    <tr>\n",
       "      <th>std</th>\n",
       "      <td>1.707648</td>\n",
       "    </tr>\n",
       "    <tr>\n",
       "      <th>min</th>\n",
       "      <td>0.000000</td>\n",
       "    </tr>\n",
       "    <tr>\n",
       "      <th>25%</th>\n",
       "      <td>0.000000</td>\n",
       "    </tr>\n",
       "    <tr>\n",
       "      <th>50%</th>\n",
       "      <td>1.000000</td>\n",
       "    </tr>\n",
       "    <tr>\n",
       "      <th>75%</th>\n",
       "      <td>2.000000</td>\n",
       "    </tr>\n",
       "    <tr>\n",
       "      <th>max</th>\n",
       "      <td>5.000000</td>\n",
       "    </tr>\n",
       "  </tbody>\n",
       "</table>\n",
       "</div>"
      ],
      "text/plain": [
       "             type\n",
       "count  214.000000\n",
       "mean     1.542056\n",
       "std      1.707648\n",
       "min      0.000000\n",
       "25%      0.000000\n",
       "50%      1.000000\n",
       "75%      2.000000\n",
       "max      5.000000"
      ]
     },
     "execution_count": 17,
     "metadata": {},
     "output_type": "execute_result"
    }
   ],
   "source": [
    "dfylbl.describe()"
   ]
  },
  {
   "cell_type": "markdown",
   "metadata": {},
   "source": [
    "Handling imbalance data using SMOTE based techniques"
   ]
  },
  {
   "attachments": {
    "image.png": {
     "image/png": "[encoded data removed]"
    }
   },
   "cell_type": "markdown",
   "metadata": {},
   "source": [
    "Resampling data is one of the most commonly preferred approaches to deal with an imbalanced dataset. There are broadly two types of methods for this i) Undersampling ii) Oversampling. In most cases, oversampling is preferred over undersampling techniques. The reason being, in undersampling we tend to remove instances from data that may be carrying some important information. In this article, I am specifically covering some special data augmentation oversampling techniques: SMOTE and its related counterparts.\n",
    "\n",
    "SMOTE: Synthetic Minority Oversampling Technique\n",
    "SMOTE is an oversampling technique where the synthetic samples are generated for the minority class. This algorithm helps to overcome the overfitting problem posed by random oversampling. It focuses on the feature space to generate new instances with the help of interpolation between the positive instances that lie together.\n",
    "\n",
    "Working Procedure: At first the total no. of oversampling observations, N is set up. Generally, it is selected such that the binary class distribution is 1:1. But that could be tuned down based on need. Then the iteration starts by first selecting a positive class instance at random. Next, the KNN’s (by default 5) for that instance is obtained. At last, N of these K instances is chosen to interpolate new synthetic instances. To do that, using any distance metric the difference in distance between the feature vector and its neighbors is calculated. Now, this difference is multiplied by any random value in (0,1] and is added to the previous feature vector. This is pictorially represented below: \n",
    "![image.png](attachment:image.png)\n",
    "\n",
    "Though this algorithm is quite useful, it has few drawbacks associated with it.\n",
    "\n",
    "i) The synthetic instances generated are in the same direction i.e. connected by an artificial line its diagonal instances. This in turn complicates the decision surface generated by few classifier algorithms.\n",
    "\n",
    "ii) SMOTE tends to create a large no. of noisy data points in feature space"
   ]
  },
  {
   "cell_type": "code",
   "execution_count": 18,
   "metadata": {
    "execution": {
     "iopub.execute_input": "2022-09-29T15:49:17.627069Z",
     "iopub.status.busy": "2022-09-29T15:49:17.626683Z",
     "iopub.status.idle": "2022-09-29T15:49:17.643336Z",
     "shell.execute_reply": "2022-09-29T15:49:17.642137Z",
     "shell.execute_reply.started": "2022-09-29T15:49:17.627037Z"
    }
   },
   "outputs": [],
   "source": [
    "smt = SMOTE(random_state=42, \n",
    "                   sampling_strategy={0:400, 1:400, 2:400, 3:400, 4:400, 5:400})\n",
    "df_smote, dfy_smote = smt.fit_resample(df, dfylbl)"
   ]
  },
  {
   "cell_type": "code",
   "execution_count": 19,
   "metadata": {
    "execution": {
     "iopub.execute_input": "2022-09-29T15:50:54.768386Z",
     "iopub.status.busy": "2022-09-29T15:50:54.767986Z",
     "iopub.status.idle": "2022-09-29T15:50:54.77566Z",
     "shell.execute_reply": "2022-09-29T15:50:54.774572Z",
     "shell.execute_reply.started": "2022-09-29T15:50:54.768356Z"
    }
   },
   "outputs": [
    {
     "data": {
      "text/plain": [
       "0    400\n",
       "1    400\n",
       "2    400\n",
       "3    400\n",
       "4    400\n",
       "5    400\n",
       "Name: type, dtype: int64"
      ]
     },
     "execution_count": 19,
     "metadata": {},
     "output_type": "execute_result"
    }
   ],
   "source": [
    "dfy_smote['type'].value_counts()"
   ]
  },
  {
   "cell_type": "markdown",
   "metadata": {},
   "source": [
    "Let's Dividing The Data Train And Test Split"
   ]
  },
  {
   "cell_type": "code",
   "execution_count": 20,
   "metadata": {},
   "outputs": [],
   "source": [
    "xtrain, xval, ytrain, yval = train_test_split(df_smote, dfy_smote, test_size=0.2, shuffle=True, \n",
    "                                              random_state=42)"
   ]
  },
  {
   "cell_type": "markdown",
   "metadata": {},
   "source": [
    "Let's Apply feature scaling techniques such as standardization to ensure that all features are on a similar scale\n",
    " - Handling the imbalance data.\n"
   ]
  },
  {
   "cell_type": "code",
   "execution_count": 21,
   "metadata": {},
   "outputs": [],
   "source": [
    "sc = StandardScaler()\n",
    "sc.fit(xtrain)\n",
    "xtrainsc = sc.transform(xtrain)\n",
    "xvalsc = sc.transform(xval)"
   ]
  },
  {
   "cell_type": "markdown",
   "metadata": {},
   "source": [
    "### 4. Modeling: Random Forest <a id=4></a>\n",
    "[back to top](#100)"
   ]
  },
  {
   "cell_type": "code",
   "execution_count": 22,
   "metadata": {},
   "outputs": [
    {
     "data": {
      "text/html": [
       "<style>#sk-container-id-1 {\n",
       "  /* Definition of color scheme common for light and dark mode */\n",
       "  --sklearn-color-text: black;\n",
       "  --sklearn-color-line: gray;\n",
       "  /* Definition of color scheme for unfitted estimators */\n",
       "  --sklearn-color-unfitted-level-0: #fff5e6;\n",
       "  --sklearn-color-unfitted-level-1: #f6e4d2;\n",
       "  --sklearn-color-unfitted-level-2: #ffe0b3;\n",
       "  --sklearn-color-unfitted-level-3: chocolate;\n",
       "  /* Definition of color scheme for fitted estimators */\n",
       "  --sklearn-color-fitted-level-0: #f0f8ff;\n",
       "  --sklearn-color-fitted-level-1: #d4ebff;\n",
       "  --sklearn-color-fitted-level-2: #b3dbfd;\n",
       "  --sklearn-color-fitted-level-3: cornflowerblue;\n",
       "\n",
       "  /* Specific color for light theme */\n",
       "  --sklearn-color-text-on-default-background: var(--sg-text-color, var(--theme-code-foreground, var(--jp-content-font-color1, black)));\n",
       "  --sklearn-color-background: var(--sg-background-color, var(--theme-background, var(--jp-layout-color0, white)));\n",
       "  --sklearn-color-border-box: var(--sg-text-color, var(--theme-code-foreground, var(--jp-content-font-color1, black)));\n",
       "  --sklearn-color-icon: #696969;\n",
       "\n",
       "  @media (prefers-color-scheme: dark) {\n",
       "    /* Redefinition of color scheme for dark theme */\n",
       "    --sklearn-color-text-on-default-background: var(--sg-text-color, var(--theme-code-foreground, var(--jp-content-font-color1, white)));\n",
       "    --sklearn-color-background: var(--sg-background-color, var(--theme-background, var(--jp-layout-color0, #111)));\n",
       "    --sklearn-color-border-box: var(--sg-text-color, var(--theme-code-foreground, var(--jp-content-font-color1, white)));\n",
       "    --sklearn-color-icon: #878787;\n",
       "  }\n",
       "}\n",
       "\n",
       "#sk-container-id-1 {\n",
       "  color: var(--sklearn-color-text);\n",
       "}\n",
       "\n",
       "#sk-container-id-1 pre {\n",
       "  padding: 0;\n",
       "}\n",
       "\n",
       "#sk-container-id-1 input.sk-hidden--visually {\n",
       "  border: 0;\n",
       "  clip: rect(1px 1px 1px 1px);\n",
       "  clip: rect(1px, 1px, 1px, 1px);\n",
       "  height: 1px;\n",
       "  margin: -1px;\n",
       "  overflow: hidden;\n",
       "  padding: 0;\n",
       "  position: absolute;\n",
       "  width: 1px;\n",
       "}\n",
       "\n",
       "#sk-container-id-1 div.sk-dashed-wrapped {\n",
       "  border: 1px dashed var(--sklearn-color-line);\n",
       "  margin: 0 0.4em 0.5em 0.4em;\n",
       "  box-sizing: border-box;\n",
       "  padding-bottom: 0.4em;\n",
       "  background-color: var(--sklearn-color-background);\n",
       "}\n",
       "\n",
       "#sk-container-id-1 div.sk-container {\n",
       "  /* jupyter's `normalize.less` sets `[hidden] { display: none; }`\n",
       "     but bootstrap.min.css set `[hidden] { display: none !important; }`\n",
       "     so we also need the `!important` here to be able to override the\n",
       "     default hidden behavior on the sphinx rendered scikit-learn.org.\n",
       "     See: https://github.com/scikit-learn/scikit-learn/issues/21755 */\n",
       "  display: inline-block !important;\n",
       "  position: relative;\n",
       "}\n",
       "\n",
       "#sk-container-id-1 div.sk-text-repr-fallback {\n",
       "  display: none;\n",
       "}\n",
       "\n",
       "div.sk-parallel-item,\n",
       "div.sk-serial,\n",
       "div.sk-item {\n",
       "  /* draw centered vertical line to link estimators */\n",
       "  background-image: linear-gradient(var(--sklearn-color-text-on-default-background), var(--sklearn-color-text-on-default-background));\n",
       "  background-size: 2px 100%;\n",
       "  background-repeat: no-repeat;\n",
       "  background-position: center center;\n",
       "}\n",
       "\n",
       "/* Parallel-specific style estimator block */\n",
       "\n",
       "#sk-container-id-1 div.sk-parallel-item::after {\n",
       "  content: \"\";\n",
       "  width: 100%;\n",
       "  border-bottom: 2px solid var(--sklearn-color-text-on-default-background);\n",
       "  flex-grow: 1;\n",
       "}\n",
       "\n",
       "#sk-container-id-1 div.sk-parallel {\n",
       "  display: flex;\n",
       "  align-items: stretch;\n",
       "  justify-content: center;\n",
       "  background-color: var(--sklearn-color-background);\n",
       "  position: relative;\n",
       "}\n",
       "\n",
       "#sk-container-id-1 div.sk-parallel-item {\n",
       "  display: flex;\n",
       "  flex-direction: column;\n",
       "}\n",
       "\n",
       "#sk-container-id-1 div.sk-parallel-item:first-child::after {\n",
       "  align-self: flex-end;\n",
       "  width: 50%;\n",
       "}\n",
       "\n",
       "#sk-container-id-1 div.sk-parallel-item:last-child::after {\n",
       "  align-self: flex-start;\n",
       "  width: 50%;\n",
       "}\n",
       "\n",
       "#sk-container-id-1 div.sk-parallel-item:only-child::after {\n",
       "  width: 0;\n",
       "}\n",
       "\n",
       "/* Serial-specific style estimator block */\n",
       "\n",
       "#sk-container-id-1 div.sk-serial {\n",
       "  display: flex;\n",
       "  flex-direction: column;\n",
       "  align-items: center;\n",
       "  background-color: var(--sklearn-color-background);\n",
       "  padding-right: 1em;\n",
       "  padding-left: 1em;\n",
       "}\n",
       "\n",
       "\n",
       "/* Toggleable style: style used for estimator/Pipeline/ColumnTransformer box that is\n",
       "clickable and can be expanded/collapsed.\n",
       "- Pipeline and ColumnTransformer use this feature and define the default style\n",
       "- Estimators will overwrite some part of the style using the `sk-estimator` class\n",
       "*/\n",
       "\n",
       "/* Pipeline and ColumnTransformer style (default) */\n",
       "\n",
       "#sk-container-id-1 div.sk-toggleable {\n",
       "  /* Default theme specific background. It is overwritten whether we have a\n",
       "  specific estimator or a Pipeline/ColumnTransformer */\n",
       "  background-color: var(--sklearn-color-background);\n",
       "}\n",
       "\n",
       "/* Toggleable label */\n",
       "#sk-container-id-1 label.sk-toggleable__label {\n",
       "  cursor: pointer;\n",
       "  display: block;\n",
       "  width: 100%;\n",
       "  margin-bottom: 0;\n",
       "  padding: 0.5em;\n",
       "  box-sizing: border-box;\n",
       "  text-align: center;\n",
       "}\n",
       "\n",
       "#sk-container-id-1 label.sk-toggleable__label-arrow:before {\n",
       "  /* Arrow on the left of the label */\n",
       "  content: \"▸\";\n",
       "  float: left;\n",
       "  margin-right: 0.25em;\n",
       "  color: var(--sklearn-color-icon);\n",
       "}\n",
       "\n",
       "#sk-container-id-1 label.sk-toggleable__label-arrow:hover:before {\n",
       "  color: var(--sklearn-color-text);\n",
       "}\n",
       "\n",
       "/* Toggleable content - dropdown */\n",
       "\n",
       "#sk-container-id-1 div.sk-toggleable__content {\n",
       "  max-height: 0;\n",
       "  max-width: 0;\n",
       "  overflow: hidden;\n",
       "  text-align: left;\n",
       "  /* unfitted */\n",
       "  background-color: var(--sklearn-color-unfitted-level-0);\n",
       "}\n",
       "\n",
       "#sk-container-id-1 div.sk-toggleable__content.fitted {\n",
       "  /* fitted */\n",
       "  background-color: var(--sklearn-color-fitted-level-0);\n",
       "}\n",
       "\n",
       "#sk-container-id-1 div.sk-toggleable__content pre {\n",
       "  margin: 0.2em;\n",
       "  border-radius: 0.25em;\n",
       "  color: var(--sklearn-color-text);\n",
       "  /* unfitted */\n",
       "  background-color: var(--sklearn-color-unfitted-level-0);\n",
       "}\n",
       "\n",
       "#sk-container-id-1 div.sk-toggleable__content.fitted pre {\n",
       "  /* unfitted */\n",
       "  background-color: var(--sklearn-color-fitted-level-0);\n",
       "}\n",
       "\n",
       "#sk-container-id-1 input.sk-toggleable__control:checked~div.sk-toggleable__content {\n",
       "  /* Expand drop-down */\n",
       "  max-height: 200px;\n",
       "  max-width: 100%;\n",
       "  overflow: auto;\n",
       "}\n",
       "\n",
       "#sk-container-id-1 input.sk-toggleable__control:checked~label.sk-toggleable__label-arrow:before {\n",
       "  content: \"▾\";\n",
       "}\n",
       "\n",
       "/* Pipeline/ColumnTransformer-specific style */\n",
       "\n",
       "#sk-container-id-1 div.sk-label input.sk-toggleable__control:checked~label.sk-toggleable__label {\n",
       "  color: var(--sklearn-color-text);\n",
       "  background-color: var(--sklearn-color-unfitted-level-2);\n",
       "}\n",
       "\n",
       "#sk-container-id-1 div.sk-label.fitted input.sk-toggleable__control:checked~label.sk-toggleable__label {\n",
       "  background-color: var(--sklearn-color-fitted-level-2);\n",
       "}\n",
       "\n",
       "/* Estimator-specific style */\n",
       "\n",
       "/* Colorize estimator box */\n",
       "#sk-container-id-1 div.sk-estimator input.sk-toggleable__control:checked~label.sk-toggleable__label {\n",
       "  /* unfitted */\n",
       "  background-color: var(--sklearn-color-unfitted-level-2);\n",
       "}\n",
       "\n",
       "#sk-container-id-1 div.sk-estimator.fitted input.sk-toggleable__control:checked~label.sk-toggleable__label {\n",
       "  /* fitted */\n",
       "  background-color: var(--sklearn-color-fitted-level-2);\n",
       "}\n",
       "\n",
       "#sk-container-id-1 div.sk-label label.sk-toggleable__label,\n",
       "#sk-container-id-1 div.sk-label label {\n",
       "  /* The background is the default theme color */\n",
       "  color: var(--sklearn-color-text-on-default-background);\n",
       "}\n",
       "\n",
       "/* On hover, darken the color of the background */\n",
       "#sk-container-id-1 div.sk-label:hover label.sk-toggleable__label {\n",
       "  color: var(--sklearn-color-text);\n",
       "  background-color: var(--sklearn-color-unfitted-level-2);\n",
       "}\n",
       "\n",
       "/* Label box, darken color on hover, fitted */\n",
       "#sk-container-id-1 div.sk-label.fitted:hover label.sk-toggleable__label.fitted {\n",
       "  color: var(--sklearn-color-text);\n",
       "  background-color: var(--sklearn-color-fitted-level-2);\n",
       "}\n",
       "\n",
       "/* Estimator label */\n",
       "\n",
       "#sk-container-id-1 div.sk-label label {\n",
       "  font-family: monospace;\n",
       "  font-weight: bold;\n",
       "  display: inline-block;\n",
       "  line-height: 1.2em;\n",
       "}\n",
       "\n",
       "#sk-container-id-1 div.sk-label-container {\n",
       "  text-align: center;\n",
       "}\n",
       "\n",
       "/* Estimator-specific */\n",
       "#sk-container-id-1 div.sk-estimator {\n",
       "  font-family: monospace;\n",
       "  border: 1px dotted var(--sklearn-color-border-box);\n",
       "  border-radius: 0.25em;\n",
       "  box-sizing: border-box;\n",
       "  margin-bottom: 0.5em;\n",
       "  /* unfitted */\n",
       "  background-color: var(--sklearn-color-unfitted-level-0);\n",
       "}\n",
       "\n",
       "#sk-container-id-1 div.sk-estimator.fitted {\n",
       "  /* fitted */\n",
       "  background-color: var(--sklearn-color-fitted-level-0);\n",
       "}\n",
       "\n",
       "/* on hover */\n",
       "#sk-container-id-1 div.sk-estimator:hover {\n",
       "  /* unfitted */\n",
       "  background-color: var(--sklearn-color-unfitted-level-2);\n",
       "}\n",
       "\n",
       "#sk-container-id-1 div.sk-estimator.fitted:hover {\n",
       "  /* fitted */\n",
       "  background-color: var(--sklearn-color-fitted-level-2);\n",
       "}\n",
       "\n",
       "/* Specification for estimator info (e.g. \"i\" and \"?\") */\n",
       "\n",
       "/* Common style for \"i\" and \"?\" */\n",
       "\n",
       ".sk-estimator-doc-link,\n",
       "a:link.sk-estimator-doc-link,\n",
       "a:visited.sk-estimator-doc-link {\n",
       "  float: right;\n",
       "  font-size: smaller;\n",
       "  line-height: 1em;\n",
       "  font-family: monospace;\n",
       "  background-color: var(--sklearn-color-background);\n",
       "  border-radius: 1em;\n",
       "  height: 1em;\n",
       "  width: 1em;\n",
       "  text-decoration: none !important;\n",
       "  margin-left: 1ex;\n",
       "  /* unfitted */\n",
       "  border: var(--sklearn-color-unfitted-level-1) 1pt solid;\n",
       "  color: var(--sklearn-color-unfitted-level-1);\n",
       "}\n",
       "\n",
       ".sk-estimator-doc-link.fitted,\n",
       "a:link.sk-estimator-doc-link.fitted,\n",
       "a:visited.sk-estimator-doc-link.fitted {\n",
       "  /* fitted */\n",
       "  border: var(--sklearn-color-fitted-level-1) 1pt solid;\n",
       "  color: var(--sklearn-color-fitted-level-1);\n",
       "}\n",
       "\n",
       "/* On hover */\n",
       "div.sk-estimator:hover .sk-estimator-doc-link:hover,\n",
       ".sk-estimator-doc-link:hover,\n",
       "div.sk-label-container:hover .sk-estimator-doc-link:hover,\n",
       ".sk-estimator-doc-link:hover {\n",
       "  /* unfitted */\n",
       "  background-color: var(--sklearn-color-unfitted-level-3);\n",
       "  color: var(--sklearn-color-background);\n",
       "  text-decoration: none;\n",
       "}\n",
       "\n",
       "div.sk-estimator.fitted:hover .sk-estimator-doc-link.fitted:hover,\n",
       ".sk-estimator-doc-link.fitted:hover,\n",
       "div.sk-label-container:hover .sk-estimator-doc-link.fitted:hover,\n",
       ".sk-estimator-doc-link.fitted:hover {\n",
       "  /* fitted */\n",
       "  background-color: var(--sklearn-color-fitted-level-3);\n",
       "  color: var(--sklearn-color-background);\n",
       "  text-decoration: none;\n",
       "}\n",
       "\n",
       "/* Span, style for the box shown on hovering the info icon */\n",
       ".sk-estimator-doc-link span {\n",
       "  display: none;\n",
       "  z-index: 9999;\n",
       "  position: relative;\n",
       "  font-weight: normal;\n",
       "  right: .2ex;\n",
       "  padding: .5ex;\n",
       "  margin: .5ex;\n",
       "  width: min-content;\n",
       "  min-width: 20ex;\n",
       "  max-width: 50ex;\n",
       "  color: var(--sklearn-color-text);\n",
       "  box-shadow: 2pt 2pt 4pt #999;\n",
       "  /* unfitted */\n",
       "  background: var(--sklearn-color-unfitted-level-0);\n",
       "  border: .5pt solid var(--sklearn-color-unfitted-level-3);\n",
       "}\n",
       "\n",
       ".sk-estimator-doc-link.fitted span {\n",
       "  /* fitted */\n",
       "  background: var(--sklearn-color-fitted-level-0);\n",
       "  border: var(--sklearn-color-fitted-level-3);\n",
       "}\n",
       "\n",
       ".sk-estimator-doc-link:hover span {\n",
       "  display: block;\n",
       "}\n",
       "\n",
       "/* \"?\"-specific style due to the `<a>` HTML tag */\n",
       "\n",
       "#sk-container-id-1 a.estimator_doc_link {\n",
       "  float: right;\n",
       "  font-size: 1rem;\n",
       "  line-height: 1em;\n",
       "  font-family: monospace;\n",
       "  background-color: var(--sklearn-color-background);\n",
       "  border-radius: 1rem;\n",
       "  height: 1rem;\n",
       "  width: 1rem;\n",
       "  text-decoration: none;\n",
       "  /* unfitted */\n",
       "  color: var(--sklearn-color-unfitted-level-1);\n",
       "  border: var(--sklearn-color-unfitted-level-1) 1pt solid;\n",
       "}\n",
       "\n",
       "#sk-container-id-1 a.estimator_doc_link.fitted {\n",
       "  /* fitted */\n",
       "  border: var(--sklearn-color-fitted-level-1) 1pt solid;\n",
       "  color: var(--sklearn-color-fitted-level-1);\n",
       "}\n",
       "\n",
       "/* On hover */\n",
       "#sk-container-id-1 a.estimator_doc_link:hover {\n",
       "  /* unfitted */\n",
       "  background-color: var(--sklearn-color-unfitted-level-3);\n",
       "  color: var(--sklearn-color-background);\n",
       "  text-decoration: none;\n",
       "}\n",
       "\n",
       "#sk-container-id-1 a.estimator_doc_link.fitted:hover {\n",
       "  /* fitted */\n",
       "  background-color: var(--sklearn-color-fitted-level-3);\n",
       "}\n",
       "</style><div id=\"sk-container-id-1\" class=\"sk-top-container\"><div class=\"sk-text-repr-fallback\"><pre>RandomForestClassifier()</pre><b>In a Jupyter environment, please rerun this cell to show the HTML representation or trust the notebook. <br />On GitHub, the HTML representation is unable to render, please try loading this page with nbviewer.org.</b></div><div class=\"sk-container\" hidden><div class=\"sk-item\"><div class=\"sk-estimator fitted sk-toggleable\"><input class=\"sk-toggleable__control sk-hidden--visually\" id=\"sk-estimator-id-1\" type=\"checkbox\" checked><label for=\"sk-estimator-id-1\" class=\"sk-toggleable__label fitted sk-toggleable__label-arrow fitted\">&nbsp;&nbsp;RandomForestClassifier<a class=\"sk-estimator-doc-link fitted\" rel=\"noreferrer\" target=\"_blank\" href=\"https://scikit-learn.org/1.5/modules/generated/sklearn.ensemble.RandomForestClassifier.html\">?<span>Documentation for RandomForestClassifier</span></a><span class=\"sk-estimator-doc-link fitted\">i<span>Fitted</span></span></label><div class=\"sk-toggleable__content fitted\"><pre>RandomForestClassifier()</pre></div> </div></div></div></div>"
      ],
      "text/plain": [
       "RandomForestClassifier()"
      ]
     },
     "execution_count": 22,
     "metadata": {},
     "output_type": "execute_result"
    }
   ],
   "source": [
    "rf = RandomForestClassifier()\n",
    "rf.fit(xtrainsc, ytrain)"
   ]
  },
  {
   "cell_type": "code",
   "execution_count": 23,
   "metadata": {},
   "outputs": [],
   "source": [
    "ypred = rf.predict(xvalsc)"
   ]
  },
  {
   "cell_type": "code",
   "execution_count": 24,
   "metadata": {},
   "outputs": [
    {
     "name": "stdout",
     "output_type": "stream",
     "text": [
      "              precision    recall  f1-score   support\n",
      "\n",
      "           0       1.00      0.98      0.99        88\n",
      "           1       0.99      0.96      0.97        76\n",
      "           2       0.99      1.00      0.99        79\n",
      "           3       0.99      1.00      0.99        71\n",
      "           4       0.99      1.00      0.99        85\n",
      "           5       0.99      1.00      0.99        81\n",
      "\n",
      "    accuracy                           0.99       480\n",
      "   macro avg       0.99      0.99      0.99       480\n",
      "weighted avg       0.99      0.99      0.99       480\n",
      "\n",
      "Random Forest Accuracy: 0.9895833333333334\n"
     ]
    }
   ],
   "source": [
    "print(classification_report(yval, ypred))\n",
    "accuracy = accuracy_score(yval, ypred)\n",
    "print(f\"Random Forest Accuracy: {accuracy}\")"
   ]
  },
  {
   "cell_type": "code",
   "execution_count": 25,
   "metadata": {},
   "outputs": [
    {
     "data": {
      "text/plain": [
       "<Axes: >"
      ]
     },
     "execution_count": 25,
     "metadata": {},
     "output_type": "execute_result"
    },
    {
     "data": {
      "image/png": "[encoded data removed]",
      "text/plain": [
       "<Figure size 500x500 with 2 Axes>"
      ]
     },
     "metadata": {},
     "output_type": "display_data"
    }
   ],
   "source": [
    "cm = confusion_matrix(yval, ypred)\n",
    "fig, ax = plt.subplots(figsize=(5,5))\n",
    "sns.heatmap(cm, annot=True, ax=ax, fmt='g', cmap=\"YlGnBu\")"
   ]
  },
  {
   "cell_type": "code",
   "execution_count": 26,
   "metadata": {
    "scrolled": false
   },
   "outputs": [
    {
     "data": {
      "text/plain": [
       "Text(0.5, 1.0, 'Features Importance')"
      ]
     },
     "execution_count": 26,
     "metadata": {},
     "output_type": "execute_result"
    },
    {
     "data": {
      "image/png": "[encoded data removed]",
      "text/plain": [
       "<Figure size 500x300 with 1 Axes>"
      ]
     },
     "metadata": {},
     "output_type": "display_data"
    }
   ],
   "source": [
    "sorted_idx = rf.feature_importances_.argsort()\n",
    "rf.feature_importances_[sorted_idx]\n",
    "\n",
    "plt.figure(figsize=(5,3))\n",
    "plt.xticks(rotation = 90)\n",
    "plt.bar(xtrain.columns[sorted_idx], rf.feature_importances_[sorted_idx])\n",
    "plt.title('Features Importance')"
   ]
  },
  {
   "cell_type": "markdown",
   "metadata": {},
   "source": [
    "#### 4.1 Model Evaluation <a id=5></a>"
   ]
  },
  {
   "cell_type": "code",
   "execution_count": 27,
   "metadata": {},
   "outputs": [
    {
     "data": {
      "text/plain": [
       "['model_rf.joblib']"
      ]
     },
     "execution_count": 27,
     "metadata": {},
     "output_type": "execute_result"
    }
   ],
   "source": [
    "joblib.dump(rf, 'model_rf.joblib')"
   ]
  },
  {
   "cell_type": "code",
   "execution_count": 28,
   "metadata": {},
   "outputs": [
    {
     "name": "stdout",
     "output_type": "stream",
     "text": [
      "              precision    recall  f1-score   support\n",
      "\n",
      "           0       1.00      0.98      0.99        88\n",
      "           1       0.99      0.96      0.97        76\n",
      "           2       0.99      1.00      0.99        79\n",
      "           3       0.99      1.00      0.99        71\n",
      "           4       0.99      1.00      0.99        85\n",
      "           5       0.99      1.00      0.99        81\n",
      "\n",
      "    accuracy                           0.99       480\n",
      "   macro avg       0.99      0.99      0.99       480\n",
      "weighted avg       0.99      0.99      0.99       480\n",
      "\n",
      "Random Forest Accuracy: 0.9895833333333334\n"
     ]
    }
   ],
   "source": [
    "model2 = joblib.load('model_rf.joblib')\n",
    "ypred2 = model2.predict(xvalsc)\n",
    "print(classification_report(yval, ypred2))\n",
    "accuracy = accuracy_score(yval, ypred2)\n",
    "print(f\"Random Forest Accuracy: {accuracy}\")"
   ]
  },
  {
   "cell_type": "markdown",
   "metadata": {},
   "source": [
    "[back to top](#100)"
   ]
  },
  {
   "cell_type": "markdown",
   "metadata": {},
   "source": [
    "### Estimators:"
   ]
  },
  {
   "cell_type": "markdown",
   "metadata": {},
   "source": [
    "#### Start with a Baseline:\n",
    "\n",
    "Begin with a commonly used default value, such as 100 estimators. This gives you a reference point for performance and training time.\n",
    "#### Model Complexity and Overfitting:\n",
    "\n",
    "More estimators can lead to better performance, but after a certain point, the improvements may become negligible or even lead to overfitting, especially in boosting methods.\n",
    "Monitor the model's performance on both the training and validation sets to detect overfitting.\n",
    "#### Training Time and Resources:\n",
    "\n",
    "More estimators require more computation. Balance the number of estimators with your available computational resources and the time you can afford for training.\n",
    "#### Validation Performance:\n",
    "\n",
    "Use cross-validation or a validation set to evaluate how performance changes with different numbers of estimators.\n",
    "Techniques for Deciding the Number of Estimators\n",
    "#### Grid Search:\n",
    "Perform a grid search over a range of n_estimators values to find the optimal number. This can be done using libraries like scikit-learn."
   ]
  },
  {
   "cell_type": "code",
   "execution_count": 29,
   "metadata": {},
   "outputs": [
    {
     "name": "stdout",
     "output_type": "stream",
     "text": [
      "Best number of estimators for Random Forest: {'n_estimators': 200}\n",
      "Best number of estimators for Gradient Boosting: {'n_estimators': 400}\n",
      "Best number of estimators for AdaBoost: {'n_estimators': 50}\n"
     ]
    }
   ],
   "source": [
    "from sklearn.ensemble import RandomForestClassifier, GradientBoostingClassifier, AdaBoostClassifier\n",
    "from sklearn.model_selection import GridSearchCV\n",
    "\n",
    "# Example for Random Forest\n",
    "param_grid_rf = {'n_estimators': [50, 100, 200, 300, 400, 500]}\n",
    "grid_search_rf = GridSearchCV(RandomForestClassifier(random_state=42), param_grid_rf, cv=5)\n",
    "grid_search_rf.fit(xtrainsc, ytrain)\n",
    "print(\"Best number of estimators for Random Forest:\", grid_search_rf.best_params_)\n",
    "\n",
    "# Example for Gradient Boosting\n",
    "param_grid_gb = {'n_estimators': [50, 100, 200, 300, 400, 500]}\n",
    "grid_search_gb = GridSearchCV(GradientBoostingClassifier(random_state=42), param_grid_gb, cv=5)\n",
    "grid_search_gb.fit(xtrainsc, ytrain)\n",
    "print(\"Best number of estimators for Gradient Boosting:\", grid_search_gb.best_params_)\n",
    "\n",
    "# Example for AdaBoost\n",
    "param_grid_ada = {'n_estimators': [50, 100, 200, 300, 400, 500]}\n",
    "grid_search_ada = GridSearchCV(AdaBoostClassifier(random_state=42), param_grid_ada, cv=5)\n",
    "grid_search_ada.fit(xtrainsc, ytrain)\n",
    "print(\"Best number of estimators for AdaBoost:\", grid_search_ada.best_params_)\n"
   ]
  },
  {
   "cell_type": "markdown",
   "metadata": {},
   "source": [
    "[back to top](#100)"
   ]
  },
  {
   "cell_type": "markdown",
   "metadata": {},
   "source": [
    "### Bagging (Bootstrap Aggregating)Concept:"
   ]
  },
  {
   "cell_type": "markdown",
   "metadata": {},
   "source": [
    "\n",
    "\n",
    "Bagging involves creating multiple subsets of data from the original dataset using random sampling with replacement (bootstrap sampling).\n",
    "Each subset is used to train a separate model (usually the same type of model).\n",
    "The predictions of these individual models are then combined (aggregated) to form the final prediction. For regression, the average of the predictions is taken, while for classification, a majority vote is taken.\n",
    "Advantages:\n",
    "\n",
    "Reduces variance: Since it averages multiple models, it can significantly reduce overfitting.\n",
    "Improves stability: Models trained on different subsets of data can capture different aspects of the data.\n",
    "Popular Algorithm:\n",
    "\n",
    "Random Forest: An extension of bagging applied to decision trees where additional randomness is introduced by selecting a random subset of features for splitting at each node."
   ]
  },
  {
   "cell_type": "code",
   "execution_count": 30,
   "metadata": {},
   "outputs": [
    {
     "name": "stdout",
     "output_type": "stream",
     "text": [
      "Random Forest Accuracy: 0.9958333333333333\n",
      "              precision    recall  f1-score   support\n",
      "\n",
      "           0       1.00      0.99      0.99        88\n",
      "           1       1.00      0.99      0.99        76\n",
      "           2       0.99      1.00      0.99        79\n",
      "           3       1.00      1.00      1.00        71\n",
      "           4       0.99      1.00      0.99        85\n",
      "           5       1.00      1.00      1.00        81\n",
      "\n",
      "    accuracy                           1.00       480\n",
      "   macro avg       1.00      1.00      1.00       480\n",
      "weighted avg       1.00      1.00      1.00       480\n",
      "\n"
     ]
    }
   ],
   "source": [
    "import numpy as np\n",
    "from sklearn.ensemble import RandomForestClassifier\n",
    "from sklearn.metrics import accuracy_score\n",
    "\n",
    "\n",
    "# Create and train the model\n",
    "rf_model3 = RandomForestClassifier(n_estimators=200, random_state=42)\n",
    "rf_model3.fit(xtrainsc, ytrain)\n",
    "\n",
    "# Make predictions\n",
    "y_pred3 = rf_model3.predict(xvalsc)\n",
    "\n",
    "# Evaluate the model\n",
    "accuracy = accuracy_score(yval, y_pred3)\n",
    "print(f\"Random Forest Accuracy: {accuracy}\")\n",
    "print(classification_report(yval, y_pred3))"
   ]
  },
  {
   "cell_type": "markdown",
   "metadata": {},
   "source": [
    "[back to top](#100)"
   ]
  },
  {
   "cell_type": "markdown",
   "metadata": {},
   "source": [
    "### Boosting Concept:"
   ]
  },
  {
   "cell_type": "markdown",
   "metadata": {},
   "source": [
    "Boosting\n",
    "Concept:\n",
    "\n",
    "Boosting involves training multiple models sequentially, where each model attempts to correct the errors of the previous model.\n",
    "The models are not independent; each new model is influenced by the performance of the previous ones.\n",
    "The final prediction is a weighted combination of the predictions from all the models.\n",
    "Advantages:\n",
    "\n",
    "Reduces both bias and variance: By focusing on errors and iteratively improving them, boosting can create highly accurate models.\n",
    "Can handle a wide variety of weak learners: Boosting works well even if the individual models are only slightly better than random guessing.\n",
    "Popular Algorithms:\n",
    "\n",
    "AdaBoost (Adaptive Boosting): Adjusts the weights of incorrectly classified instances so that subsequent models focus more on them.\n",
    "Gradient Boosting: Builds models sequentially, where each new model tries to correct the residual errors made by the previous model.\n",
    "XGBoost: An optimized version of gradient boosting that includes regularization to prevent overfitting and handles missing values."
   ]
  },
  {
   "cell_type": "code",
   "execution_count": 31,
   "metadata": {},
   "outputs": [
    {
     "name": "stdout",
     "output_type": "stream",
     "text": [
      "Gradient Boosting Accuracy: 0.9895833333333334\n",
      "              precision    recall  f1-score   support\n",
      "\n",
      "           0       0.99      0.98      0.98        88\n",
      "           1       0.99      0.97      0.98        76\n",
      "           2       0.99      0.99      0.99        79\n",
      "           3       1.00      1.00      1.00        71\n",
      "           4       0.99      1.00      0.99        85\n",
      "           5       0.99      1.00      0.99        81\n",
      "\n",
      "    accuracy                           0.99       480\n",
      "   macro avg       0.99      0.99      0.99       480\n",
      "weighted avg       0.99      0.99      0.99       480\n",
      "\n"
     ]
    }
   ],
   "source": [
    "from sklearn.ensemble import GradientBoostingClassifier\n",
    "\n",
    "# Create and train the model\n",
    "gb_model = GradientBoostingClassifier(n_estimators=200, learning_rate=0.1, max_depth=3, random_state=42)\n",
    "gb_model.fit(xtrainsc, ytrain)\n",
    "\n",
    "# Make predictions\n",
    "y_pred_gb = gb_model.predict(xvalsc)\n",
    "\n",
    "# Evaluate the model\n",
    "accuracy_gb = accuracy_score(yval, y_pred_gb)\n",
    "print(f\"Gradient Boosting Accuracy: {accuracy_gb}\")\n",
    "print(classification_report(yval, y_pred_gb))"
   ]
  },
  {
   "cell_type": "code",
   "execution_count": null,
   "metadata": {},
   "outputs": [],
   "source": []
  },
  {
   "cell_type": "markdown",
   "metadata": {},
   "source": [
    "[back to top](#100)"
   ]
  }
 ],
 "metadata": {
  "kaggle": {
   "accelerator": "none",
   "dataSources": [
    {
     "datasetId": 2488615,
     "sourceId": 4222178,
     "sourceType": "datasetVersion"
    }
   ],
   "dockerImageVersionId": 30260,
   "isGpuEnabled": false,
   "isInternetEnabled": false,
   "language": "python",
   "sourceType": "notebook"
  },
  "kernelspec": {
   "display_name": "Python 3 (ipykernel)",
   "language": "python",
   "name": "python3"
  },
  "language_info": {
   "codemirror_mode": {
    "name": "ipython",
    "version": 3
   },
   "file_extension": ".py",
   "mimetype": "text/x-python",
   "name": "python",
   "nbconvert_exporter": "python",
   "pygments_lexer": "ipython3",
   "version": "3.11.5"
  }
 },
 "nbformat": 4,
 "nbformat_minor": 4
}
